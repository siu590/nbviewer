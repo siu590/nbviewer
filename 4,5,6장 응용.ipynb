{
 "cells": [
  {
   "cell_type": "markdown",
   "id": "04a86b67",
   "metadata": {},
   "source": [
    "C521014 김시우 "
   ]
  },
  {
   "cell_type": "code",
   "execution_count": 6,
   "id": "e2883edd",
   "metadata": {},
   "outputs": [
    {
     "name": "stdout",
     "output_type": "stream",
     "text": [
      "a=3\n",
      "b=7\n",
      "a + b = 10\n",
      "a * b = 21\n",
      "a >= b = False\n",
      "list[3, 7]는 <class 'types.GenericAlias'>\n"
     ]
    }
   ],
   "source": [
    "#데이터를 입력받아서 정수로 변환하여 변수에 저장\n",
    "a = int(input('숫자를 입력하세요:'))\n",
    "b = int(input('숫자를 입력하세요:'))\n",
    "\n",
    "#입력받은 데이터값 출력\n",
    "print(f'a={a}')\n",
    "print(f'b={b}')\n",
    "\n",
    "#입력받은 데이터끼리 연산 및 비교\n",
    "print(f'{a + b = }')\n",
    "print(f'{a * b = }')\n",
    "print(f'{a >= b = }')\n",
    "\n",
    "#입력받은 a,b를 자료형으로 변환\n",
    "c = list[a, b]\n",
    "\n",
    "#c의 값과 자료형을 출력\n",
    "print(f'{c}는 {type(c)}')"
   ]
  }
 ],
 "metadata": {
  "kernelspec": {
   "display_name": "Python 3",
   "language": "python",
   "name": "python3"
  },
  "language_info": {
   "codemirror_mode": {
    "name": "ipython",
    "version": 3
   },
   "file_extension": ".py",
   "mimetype": "text/x-python",
   "name": "python",
   "nbconvert_exporter": "python",
   "pygments_lexer": "ipython3",
   "version": "3.13.2"
  }
 },
 "nbformat": 4,
 "nbformat_minor": 5
}
