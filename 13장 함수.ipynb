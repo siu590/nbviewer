{
 "cells": [
  {
   "cell_type": "markdown",
   "id": "fd2599e5",
   "metadata": {},
   "source": [
    "함수의 정의 "
   ]
  },
  {
   "cell_type": "code",
   "execution_count": 4,
   "id": "62bf2a2f",
   "metadata": {},
   "outputs": [],
   "source": [
    "#calcSumProduct 함수명, a, b는 parameters(매개변수)\n",
    "def calcSumProduct(a, b = 10) :\n",
    "\n",
    "    #들여쓰기로 실행문의 코드블록을 지정\n",
    "    plus = a+b\n",
    "    multiple = a*b\n",
    "\n",
    "    #return으로 함수의 결과값을 반환\n",
    "    return plus, multiple"
   ]
  },
  {
   "cell_type": "markdown",
   "id": "bbe57c1b",
   "metadata": {},
   "source": [
    "함수의 호출"
   ]
  },
  {
   "cell_type": "code",
   "execution_count": 7,
   "id": "6e378017",
   "metadata": {},
   "outputs": [
    {
     "name": "stdout",
     "output_type": "stream",
     "text": [
      "sum = 10, product = 21\n"
     ]
    }
   ],
   "source": [
    "#인자를 순서대로 전달하여 함수 호출\n",
    "sum, product = calcSumProduct(3, 7)\n",
    "\n",
    "#함수의 결과값을 출력\n",
    "print(f'{sum = }, {product = }')"
   ]
  },
  {
   "cell_type": "code",
   "execution_count": 8,
   "id": "30fcc0de",
   "metadata": {},
   "outputs": [
    {
     "name": "stdout",
     "output_type": "stream",
     "text": [
      "sum = 13, product = 30\n"
     ]
    }
   ],
   "source": [
    "#인자의 디폴트값을 사용하여 함수 호출\n",
    "sum, product = calcSumProduct(3)\n",
    "\n",
    "print(f'{sum = }, {product = }')"
   ]
  },
  {
   "cell_type": "code",
   "execution_count": 9,
   "id": "06bc79d2",
   "metadata": {},
   "outputs": [
    {
     "name": "stdout",
     "output_type": "stream",
     "text": [
      "sum = 10, product = 21\n"
     ]
    }
   ],
   "source": [
    "#인자의 이름을 지정하여 함수 호출\n",
    "sum, product = calcSumProduct(b = 3, a = 7)\n",
    "\n",
    "print(f'{sum = }, {product = }')"
   ]
  },
  {
   "cell_type": "markdown",
   "id": "88f3e751",
   "metadata": {},
   "source": [
    "함수 주석 "
   ]
  },
  {
   "cell_type": "code",
   "execution_count": 10,
   "id": "68830d42",
   "metadata": {},
   "outputs": [],
   "source": [
    "#a와b는 int형으로 지정, 반환값은 int형\n",
    "def calcSumProduct(a: int, b: int = 10) -> int:\n",
    "    #함수에 대한 설명을 작성\n",
    "    \"\"\"calcSumProduct 함수는 a와 b를 더한 값과 곱한값을 튜플로 반환하는 함수이다.\"\"\"\n",
    "\n",
    "    #f-string을 이용하여 a와 b의 값을 출력\n",
    "    print(f'{a = }, {b = }')\n",
    "    plus = a + b\n",
    "    multiple = a*b\n",
    "    return plus, multiple"
   ]
  },
  {
   "cell_type": "code",
   "execution_count": 11,
   "id": "a9cddd43",
   "metadata": {},
   "outputs": [
    {
     "name": "stdout",
     "output_type": "stream",
     "text": [
      "Help on function calcSumProduct in module __main__:\n",
      "\n",
      "calcSumProduct(a: int, b: int = 10) -> int\n",
      "    calcSumProduct 함수는 a와 b를 더한 값과 곱한값을 튜플로 반환하는 함수이다.\n",
      "\n"
     ]
    }
   ],
   "source": [
    "#함수의 설명을 출력\n",
    "help(calcSumProduct)"
   ]
  },
  {
   "cell_type": "markdown",
   "id": "782e421a",
   "metadata": {},
   "source": [
    "인수의 개수가 정해지지 않은 함수 "
   ]
  },
  {
   "cell_type": "markdown",
   "id": "294e7caf",
   "metadata": {},
   "source": [
    "*args의 활용"
   ]
  },
  {
   "cell_type": "code",
   "execution_count": 20,
   "id": "e116f092",
   "metadata": {},
   "outputs": [
    {
     "name": "stdout",
     "output_type": "stream",
     "text": [
      "inputs = (1, 2, 3)\n",
      "sum = np.int64(6), product = np.int64(6)\n",
      "\n",
      "inputs = (1, 2, 3, 4, 5, 6, 7, 8)\n",
      "sum = np.int64(36), product = np.int64(40320)\n"
     ]
    }
   ],
   "source": [
    "#계산을 위해 numpy 모듈을 np로 import\n",
    "import numpy as np\n",
    "\n",
    "#calcSumProduct2 함수명, imputs는 크기가 정해지지 않은 parameters(매개변수)\n",
    "def calcSumProduct2(*inputs) :\n",
    "    \"\"\"calcSumProduct2함수는 입력의 합과 곱을 튜플로 반환하는 함수이다.\"\"\"\n",
    "\n",
    "    #f-string을 이용하여 inputs의 값을 출력\n",
    "    print(f'{inputs = }')\n",
    "\n",
    "    #numpy모듈을 이용하여 inputs의 합과 곱을 계산\n",
    "    plus = np.sum(inputs)\n",
    "    multiple = np.prod(inputs)\n",
    "\n",
    "    #plus와 multiple을 튜플로 반환\n",
    "    return plus, multiple\n",
    "\n",
    "#인수 1,2,3에 대한 함수를 적용하여 결과를 sum, product에 저장\n",
    "sum, product = calcSumProduct2(1,2,3)\n",
    "\n",
    "#sum과 product을 출력\n",
    "print(f'{sum = }, {product = }\\n')\n",
    "\n",
    "#인수 1,2,3,4,5,6,7,8에 대한 함수를 적용하여 결과를 sum,product에 저장\n",
    "sum, product = calcSumProduct2(1,2,3,4,5,6,7,8)\n",
    "\n",
    "#sum과 product을 출력\n",
    "print(f'{sum = }, {product = }')"
   ]
  },
  {
   "cell_type": "markdown",
   "id": "4cc59341",
   "metadata": {},
   "source": [
    "**kwargs의 활용 "
   ]
  },
  {
   "cell_type": "code",
   "execution_count": 21,
   "id": "7f01242e",
   "metadata": {},
   "outputs": [
    {
     "name": "stdout",
     "output_type": "stream",
     "text": [
      "inputs = {'a': 1, 'b': 2}\n",
      "sum = 3, product = 2\n",
      "\n",
      "inputs = {'a': 1, 'b': 2, 'c': 3, 'd': 4}\n",
      "sum = 10, product = 24\n"
     ]
    }
   ],
   "source": [
    "import numpy as np\n",
    "\n",
    "#calcSumProduct2 함수명, inputs는 크기가 정해지지 않은 parameters\n",
    "def calcSumProduct2(**inputs) :\n",
    "    \"\"\"calcSumProduct2 함수는 입력의 합과 곱을 튜플로 반환하는 함수이다.\"\"\" \n",
    "\n",
    "    #f-string을 이용하여 inputs의 값을 출력\n",
    "    print(f'{inputs = }')\n",
    "\n",
    "    #plus에 0을, multiple에 1을 초기값으로 할당\n",
    "    plus = 0\n",
    "    multiple = 1\n",
    "\n",
    "    #inputs가 딕셔너리이므로 key와 value를 반복하여 _, value에 할당\n",
    "    for _, value in inputs.items() :\n",
    "        #plus에 value를 더하여 plus를 갱신\n",
    "        plus += value\n",
    "        #multiple에 value를 곱하여 multiple을 갱신\n",
    "        multiple *= value\n",
    "    \n",
    "    #plus와 multiple을 튜플로 변환\n",
    "    return plus, multiple\n",
    "\n",
    "#인수 a=1, b=2에 대한 함수를 적용하여 결과를 sum, product에 저장\n",
    "sum, product = calcSumProduct2(a=1, b=2)\n",
    "print(f'{sum = }, {product = }\\n')\n",
    "\n",
    "#인수 a=1, b=2, c=3, d=4에 대한 함수를 적용하여 결과를 sum, product에 저장\n",
    "sum, product = calcSumProduct2(a=1, b=2, c=3, d=4)\n",
    "print(f'{sum = }, {product = }')"
   ]
  },
  {
   "cell_type": "markdown",
   "id": "1c6fcc84",
   "metadata": {},
   "source": [
    "함수 내에서 전역변수의 사용 "
   ]
  },
  {
   "cell_type": "code",
   "execution_count": 22,
   "id": "ac6c89f7",
   "metadata": {},
   "outputs": [
    {
     "name": "stdout",
     "output_type": "stream",
     "text": [
      "var_global = '전역 변수'\n",
      "var_local = '인자는 지역 변수'\n",
      "var_global = '전역 변수'\n",
      "name 'var_local' is not defined\n"
     ]
    }
   ],
   "source": [
    "#var_global은 전역변수\n",
    "var_global = '전역 변수'\n",
    "\n",
    "#useGlobalVariable 함수명, var_local은 매개변수 (지역 변수)\n",
    "def useGlobalVariable(var_local) :\n",
    "\n",
    "    #전역변수와 지역변수를 출력\n",
    "    print(f'{var_global = }')\n",
    "    print(f'{var_local = }')\n",
    "\n",
    "#useGlobalVariable 함수 호출, '인자는 지역변수'는 인자\n",
    "useGlobalVariable('인자는 지역 변수')\n",
    "\n",
    "#전역변수를 출력 -> 값이 변하지 않음\n",
    "print(f'{var_global = }')\n",
    "\n",
    "#지역변수를 출력 -> 함수 내에서만 사용되는 변수로서 함수 외부에서는 사용 불가\n",
    "try :\n",
    "    print(f'{var_local = }')\n",
    "except NameError as e :\n",
    "    print(e)"
   ]
  },
  {
   "cell_type": "markdown",
   "id": "255bb4d5",
   "metadata": {},
   "source": [
    "함수 내에서 전역변수의 변경 "
   ]
  },
  {
   "cell_type": "code",
   "execution_count": 23,
   "id": "de330673",
   "metadata": {},
   "outputs": [
    {
     "name": "stdout",
     "output_type": "stream",
     "text": [
      "var_global = '전역 변수가 아닌 지역 변수임'\n",
      "var_local = '인자는 지역 변수'\n",
      "var_global = '전역 변수'\n"
     ]
    }
   ],
   "source": [
    "var_global = '전역 변수'\n",
    "\n",
    "def useGlobalVariable(var_local) :\n",
    "\n",
    "    #var_global을 변경하면, 전역변수가 아닌 지역변수로 생성하여 사용됨\n",
    "    #즉, 변수명은 동일하나 서로 다른 변수임\n",
    "    var_global = '전역 변수가 아닌 지역 변수임'\n",
    "    print(f'{var_global = }')\n",
    "    print(f'{var_local = }')\n",
    "\n",
    "#useGlobalVariable 함수 호출, '인자는 지역 변수' 는 인자\n",
    "useGlobalVariable('인자는 지역 변수')\n",
    "\n",
    "#전역 변수를 출력 -> 값이 변하지 않음\n",
    "print(f'{var_global = }')"
   ]
  },
  {
   "cell_type": "markdown",
   "id": "b3d4f8f4",
   "metadata": {},
   "source": [
    "함수 내에서 전역변수를 변경하는 방법 "
   ]
  },
  {
   "cell_type": "code",
   "execution_count": 24,
   "id": "1338ecfd",
   "metadata": {},
   "outputs": [
    {
     "name": "stdout",
     "output_type": "stream",
     "text": [
      "var_global = '전역 변수'\n",
      "var_local = '인자는 지역 변수'\n",
      "var_global = '이제는 전역 변수임'\n"
     ]
    }
   ],
   "source": [
    "var_global = '전역 변수'\n",
    "\n",
    "def useGlobalVariable(var_local) :\n",
    "\n",
    "    #var_global이 전역 변수임을 명시\n",
    "    global var_global\n",
    "\n",
    "    #전역변수와 지역변수를 출력\n",
    "    print(f'{var_global = }')\n",
    "    print(f'{var_local = }')\n",
    "\n",
    "    #var_global은 이제 전역 변수이므로 전역 변수의 값이 변경됨\n",
    "    var_global = '이제는 전역 변수임'\n",
    "\n",
    "#useGlobalVariable 함수 호출, '인자는 지역 변수'는 인자\n",
    "useGlobalVariable('인자는 지역 변수')\n",
    "\n",
    "#전역변수를 출력 -> 값이 변경됨\n",
    "print(f'{var_global = }')"
   ]
  },
  {
   "cell_type": "markdown",
   "id": "07d2abb8",
   "metadata": {},
   "source": [
    "람다함수 "
   ]
  },
  {
   "cell_type": "code",
   "execution_count": 25,
   "id": "32c3f72a",
   "metadata": {},
   "outputs": [
    {
     "data": {
      "text/plain": [
       "15"
      ]
     },
     "execution_count": 25,
     "metadata": {},
     "output_type": "execute_result"
    }
   ],
   "source": [
    "#x를 매개변수로 하여 10을 더하는 함수 정의\n",
    "def addTen(x) :\n",
    "    return x+10\n",
    "\n",
    "#일반 함수 호출\n",
    "addTen(5)"
   ]
  },
  {
   "cell_type": "code",
   "execution_count": 26,
   "id": "136e751f",
   "metadata": {},
   "outputs": [
    {
     "data": {
      "text/plain": [
       "<function __main__.<lambda>(x)>"
      ]
     },
     "execution_count": 26,
     "metadata": {},
     "output_type": "execute_result"
    }
   ],
   "source": [
    "#x를 매개변수로 하여 10을 더하는 함수를 lambda로 정의\n",
    "lambda x: x+10"
   ]
  },
  {
   "cell_type": "code",
   "execution_count": 27,
   "id": "4c6efdf5",
   "metadata": {},
   "outputs": [
    {
     "data": {
      "text/plain": [
       "15"
      ]
     },
     "execution_count": 27,
     "metadata": {},
     "output_type": "execute_result"
    }
   ],
   "source": [
    "#lambda 함수 호출 -> 함수명이 없으므로 함수를 호출할 수 없어 정의하여 바로 호출\n",
    "(lambda x: x+10)(5)"
   ]
  },
  {
   "cell_type": "code",
   "execution_count": 28,
   "id": "60aed56c",
   "metadata": {},
   "outputs": [
    {
     "data": {
      "text/plain": [
       "15"
      ]
     },
     "execution_count": 28,
     "metadata": {},
     "output_type": "execute_result"
    }
   ],
   "source": [
    "#x를 입력받아 x+10을 반환하는 람다함수를 addTen으로 명명\n",
    "addTen = lambda x: x+10\n",
    "\n",
    "#addTen 함수 호출\n",
    "addTen(5)"
   ]
  },
  {
   "cell_type": "markdown",
   "id": "b45297c4",
   "metadata": {},
   "source": [
    "람다함수 외부 변수의 사용 "
   ]
  },
  {
   "cell_type": "code",
   "execution_count": 29,
   "id": "d3c862ae",
   "metadata": {},
   "outputs": [
    {
     "data": {
      "text/plain": [
       "115"
      ]
     },
     "execution_count": 29,
     "metadata": {},
     "output_type": "execute_result"
    }
   ],
   "source": [
    "#외부 변수\n",
    "y = 100\n",
    "\n",
    "#외부 변수를 참조하는 람다함수\n",
    "(lambda x: x+y+10)(5)"
   ]
  },
  {
   "cell_type": "markdown",
   "id": "200afad8",
   "metadata": {},
   "source": [
    "람다함수에 조건부 표현식 사용 "
   ]
  },
  {
   "cell_type": "code",
   "execution_count": 30,
   "id": "948e87a9",
   "metadata": {},
   "outputs": [
    {
     "data": {
      "text/plain": [
       "'(3의 배수)9'"
      ]
     },
     "execution_count": 30,
     "metadata": {},
     "output_type": "execute_result"
    }
   ],
   "source": [
    "#x가 3의 배수이면 '(3의 배수)'+str(x)를 반환하고, 아니면 x를 반환하는 람다함수\n",
    "(lambda x: '(3의 배수)'+str(x) if x % 3 == 0 else x)(9)"
   ]
  },
  {
   "cell_type": "code",
   "execution_count": 31,
   "id": "7e268725",
   "metadata": {},
   "outputs": [
    {
     "data": {
      "text/plain": [
       "8"
      ]
     },
     "execution_count": 31,
     "metadata": {},
     "output_type": "execute_result"
    }
   ],
   "source": [
    "(lambda x: '(3의 배수)' +str(x) if x % 3 == 0 else x)(8)"
   ]
  },
  {
   "cell_type": "code",
   "execution_count": 33,
   "id": "2917a060",
   "metadata": {},
   "outputs": [
    {
     "data": {
      "text/plain": [
       "'(3의 배수)9'"
      ]
     },
     "execution_count": 33,
     "metadata": {},
     "output_type": "execute_result"
    }
   ],
   "source": [
    "#x가 3의 배수이면 '(3의 배수)' +str(x)를 반환하고,\n",
    "#x를 3으로 나눈 나머지가 1이면 float(x)를 반환하고,\n",
    "#모두 해당이 안 되면 x를 반환하는 람다함수\n",
    "(lambda x: '(3의 배수)' +str(x) if x % 3 == 0 else float(x) if x % 3 == 1 else x)(9)"
   ]
  },
  {
   "cell_type": "code",
   "execution_count": 34,
   "id": "02c99b5c",
   "metadata": {},
   "outputs": [
    {
     "data": {
      "text/plain": [
       "7.0"
      ]
     },
     "execution_count": 34,
     "metadata": {},
     "output_type": "execute_result"
    }
   ],
   "source": [
    "(lambda x: '(3의 배수)' +str(x) if x % 3 == 0 else float(x) if x % 3 == 1 else x)(7)"
   ]
  },
  {
   "cell_type": "code",
   "execution_count": 35,
   "id": "4f1cf366",
   "metadata": {},
   "outputs": [
    {
     "data": {
      "text/plain": [
       "5"
      ]
     },
     "execution_count": 35,
     "metadata": {},
     "output_type": "execute_result"
    }
   ],
   "source": [
    "(lambda x: '(3의 배수)' +str(x) if x % 3 == 0  else float(x) if x % 3 == 1 else x)(5)"
   ]
  },
  {
   "cell_type": "markdown",
   "id": "2cdf3ecc",
   "metadata": {},
   "source": [
    "람다함수에 인자 여러 개 넣기 "
   ]
  },
  {
   "cell_type": "code",
   "execution_count": 36,
   "id": "3c85ffab",
   "metadata": {},
   "outputs": [
    {
     "data": {
      "text/plain": [
       "3"
      ]
     },
     "execution_count": 36,
     "metadata": {},
     "output_type": "execute_result"
    }
   ],
   "source": [
    "#x가 3의 배수이면 x를, 아니면 x+y를 반환하는 람다함수\n",
    "(lambda x, y : x if x % 3 == 0 else x+y)(3,4)"
   ]
  },
  {
   "cell_type": "code",
   "execution_count": 37,
   "id": "9ef1ceda",
   "metadata": {},
   "outputs": [
    {
     "data": {
      "text/plain": [
       "6"
      ]
     },
     "execution_count": 37,
     "metadata": {},
     "output_type": "execute_result"
    }
   ],
   "source": [
    "(lambda x, y: x if x % 3 == 0 else x + y)(2, 4)"
   ]
  },
  {
   "cell_type": "markdown",
   "id": "b536ba95",
   "metadata": {},
   "source": [
    "map 함수에 적용 "
   ]
  },
  {
   "cell_type": "code",
   "execution_count": 38,
   "id": "023df591",
   "metadata": {},
   "outputs": [
    {
     "data": {
      "text/plain": [
       "[11, 12, 13]"
      ]
     },
     "execution_count": 38,
     "metadata": {},
     "output_type": "execute_result"
    }
   ],
   "source": [
    "#[1,2,3]의 원소를 x에 할당하여 x+10을 반환하는 람다함수를 호출하여 list로 변환\n",
    "list(map(lambda x: x + 10, [1,2,3]))"
   ]
  },
  {
   "cell_type": "code",
   "execution_count": 39,
   "id": "70407b70",
   "metadata": {},
   "outputs": [
    {
     "data": {
      "text/plain": [
       "['(3의 배수)0', 1, 2, '(3의 배수)3', 4, 5, '(3의 배수)6', 7, 8, '(3의 배수)9']"
      ]
     },
     "execution_count": 39,
     "metadata": {},
     "output_type": "execute_result"
    }
   ],
   "source": [
    "#range(10)의 원소를 x에 할당하여 x가 3의 배수이면 '(3의 배수)'+str(x)를 반환하고,\n",
    "#아니면 x를 반환하는 람다함수를 호출하여 list로 변환\n",
    "ldMultiple3 = lambda x: '(3의 배수)'+str(x) if x % 3 == 0 else x\n",
    "list(map(ldMultiple3, range(10)))"
   ]
  },
  {
   "cell_type": "code",
   "execution_count": 40,
   "id": "1e253f66",
   "metadata": {},
   "outputs": [
    {
     "data": {
      "text/plain": [
       "['(3의 배수)0', 1.0, 2, '(3의 배수)3', 4.0, 5, '(3의 배수)6', 7.0, 8, '(3의 배수)9']"
      ]
     },
     "execution_count": 40,
     "metadata": {},
     "output_type": "execute_result"
    }
   ],
   "source": [
    "#range(10)의 원소를 x에 할당하여 x가 3의 배수이면 '(3의 배수)'+str(x)를 반환하고,\n",
    "#x를 3으로 나눈 나머지가 1이면 float(x)를 반환하고,\n",
    "#모두 해당이 안 되면 x를 반환하는 람다함수를 호출하여 list로 변환\n",
    "ldMultiple3f = lambda x: '(3의 배수)'+str(x) if x % 3 == 0 else float(x) if x % 3 == 1 else x\n",
    "list(map(ldMultiple3f, range(10)))"
   ]
  },
  {
   "cell_type": "code",
   "execution_count": 41,
   "id": "8220cfda",
   "metadata": {},
   "outputs": [
    {
     "data": {
      "text/plain": [
       "[0, 101, 102, 3, 104, 105, 6, 107, 108, 9]"
      ]
     },
     "execution_count": 41,
     "metadata": {},
     "output_type": "execute_result"
    }
   ],
   "source": [
    "#range(10)의 원소를 x에 할당하고, [100]*10의 원소를 y에 할당하여\n",
    "#x가 3의 배수이면 x를, 아니면 x+y를 반환하는 람다함수를 호출하여 list로 변환\n",
    "ldMultiple3a = lambda x, y: x if x % 3 == 0 else x+y\n",
    "list(map(ldMultiple3a, range(10), [100]*10))"
   ]
  }
 ],
 "metadata": {
  "kernelspec": {
   "display_name": "Python 3",
   "language": "python",
   "name": "python3"
  },
  "language_info": {
   "codemirror_mode": {
    "name": "ipython",
    "version": 3
   },
   "file_extension": ".py",
   "mimetype": "text/x-python",
   "name": "python",
   "nbconvert_exporter": "python",
   "pygments_lexer": "ipython3",
   "version": "3.13.2"
  }
 },
 "nbformat": 4,
 "nbformat_minor": 5
}
