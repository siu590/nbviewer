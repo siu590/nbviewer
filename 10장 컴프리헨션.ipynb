{
 "cells": [
  {
   "cell_type": "markdown",
   "id": "ac168122",
   "metadata": {},
   "source": [
    "리스트 컴프리헨션을 이용한 리스트 생성"
   ]
  },
  {
   "cell_type": "code",
   "execution_count": 1,
   "id": "d7646040",
   "metadata": {},
   "outputs": [
    {
     "name": "stdout",
     "output_type": "stream",
     "text": [
      "nums_comp = [11, 12, 13, 14, 15]\n"
     ]
    }
   ],
   "source": [
    "#1부터 5까지 순차적으로 num에 대입하고, num+10을 리스트에 추가\n",
    "nums_comp = [num+10 for num in range(1,6)]\n",
    "print(f'{nums_comp = }')"
   ]
  },
  {
   "cell_type": "markdown",
   "id": "f64a7b4b",
   "metadata": {},
   "source": [
    "for문을 사용한 리스트 생성과 비교"
   ]
  },
  {
   "cell_type": "code",
   "execution_count": 3,
   "id": "cd4b82a4",
   "metadata": {},
   "outputs": [
    {
     "name": "stdout",
     "output_type": "stream",
     "text": [
      "nums_for = [11, 12, 13, 14, 15]\n"
     ]
    }
   ],
   "source": [
    "#숫자를 담을 수 있는 빈 리스트 생성\n",
    "nums_for = []\n",
    "\n",
    "#1부터 5까지 순차적으로 num에 대입\n",
    "for num in range(1,6) :\n",
    "    #append() 함수로 리스트에 num+10 추가\n",
    "    nums_for.append(num+10)\n",
    "\n",
    "#리스트 출력\n",
    "print(f'{nums_for = }')"
   ]
  },
  {
   "cell_type": "markdown",
   "id": "65095eab",
   "metadata": {},
   "source": [
    "map 함수를 사용한 리스트 생성과 비교"
   ]
  },
  {
   "cell_type": "code",
   "execution_count": 4,
   "id": "80e7f730",
   "metadata": {},
   "outputs": [
    {
     "data": {
      "text/plain": [
       "15"
      ]
     },
     "execution_count": 4,
     "metadata": {},
     "output_type": "execute_result"
    }
   ],
   "source": [
    "#입력한 숫자에 10을 더하는 함수를 정의\n",
    "def add_ten(num):\n",
    "    return num + 10\n",
    "\n",
    "#함수 테스트\n",
    "add_ten(5)"
   ]
  },
  {
   "cell_type": "code",
   "execution_count": 5,
   "id": "05edc3fb",
   "metadata": {},
   "outputs": [
    {
     "data": {
      "text/plain": [
       "<map at 0x1cc8909ac20>"
      ]
     },
     "execution_count": 5,
     "metadata": {},
     "output_type": "execute_result"
    }
   ],
   "source": [
    "#map 함수의 동작 확인 -> map 객체가 반환됨\n",
    "map(add_ten, [1, 2, 3, 4, 5])"
   ]
  },
  {
   "cell_type": "code",
   "execution_count": 6,
   "id": "6a5967f7",
   "metadata": {},
   "outputs": [
    {
     "data": {
      "text/plain": [
       "[11, 12, 13, 14, 15]"
      ]
     },
     "execution_count": 6,
     "metadata": {},
     "output_type": "execute_result"
    }
   ],
   "source": [
    "#map 객체를 리스트로 변환\n",
    "list(map(add_ten, [1, 2, 3, 4, 5]))"
   ]
  },
  {
   "cell_type": "code",
   "execution_count": 7,
   "id": "7cdb5e10",
   "metadata": {},
   "outputs": [
    {
     "name": "stdout",
     "output_type": "stream",
     "text": [
      "nums_map = [11, 12, 13, 14, 15]\n"
     ]
    }
   ],
   "source": [
    "#map을 적용하여 컴프리헨션과 동일한 결과를 얻을 수 있음\n",
    "nums_map = list(map(add_ten, range(1, 6)))\n",
    "print(f'{nums_map = }')"
   ]
  },
  {
   "cell_type": "markdown",
   "id": "4d5ad37c",
   "metadata": {},
   "source": [
    "수식을 적용한 리스트 컴프리헨션 "
   ]
  },
  {
   "cell_type": "code",
   "execution_count": 8,
   "id": "699e8512",
   "metadata": {},
   "outputs": [
    {
     "name": "stdout",
     "output_type": "stream",
     "text": [
      "nums_math = [1, 3, 5, 7, 9]\n"
     ]
    }
   ],
   "source": [
    "#1부터 5까지 순차적으로 num에 대입하고,\n",
    "#num에 2를 곱하고 1을 뺀 값을 리스트에 추가\n",
    "nums_math = [num*2-1 for num in range(1, 6)]\n",
    "print(f'{nums_math = }')"
   ]
  },
  {
   "cell_type": "markdown",
   "id": "a305d242",
   "metadata": {},
   "source": [
    "함수를 적용한 리스트 컴프리헨션 "
   ]
  },
  {
   "cell_type": "code",
   "execution_count": 9,
   "id": "754b6363",
   "metadata": {},
   "outputs": [
    {
     "name": "stdout",
     "output_type": "stream",
     "text": [
      "nums_func = ['Int_1', 'Int_2', 'Int_3', 'Int_4', 'Int_5']\n"
     ]
    }
   ],
   "source": [
    "#입력한 데이터를 문자열로 변환하고 'Int_'를 앞에 붙이는 함수 정의\n",
    "def addString(x) :\n",
    "    return 'Int_' + str(x)\n",
    "\n",
    "#1부터 5까지 순차적으로 num에 대입하고,\n",
    "#num을 addString() 함수에 대입한 결과를 리스트에 추가\n",
    "nums_func = [addString(num) for num in range(1,6)]\n",
    "print(f'{nums_func = }') #리스트 출력"
   ]
  },
  {
   "cell_type": "markdown",
   "id": "39664651",
   "metadata": {},
   "source": [
    "if 조건문을 적용한 리스트 컴프리헨션 "
   ]
  },
  {
   "cell_type": "code",
   "execution_count": 10,
   "id": "b5212bb9",
   "metadata": {},
   "outputs": [
    {
     "name": "stdout",
     "output_type": "stream",
     "text": [
      "nums_odds = [1, 3, 5]\n"
     ]
    }
   ],
   "source": [
    "#1부터 5까지 순차적으로 num에 대입하고,\n",
    "#num이 홀수이면 리스트에 추가\n",
    "nums_odds = [num for num in range(1, 6) if num % 2 == 1]\n",
    "print(f'{nums_odds = }')"
   ]
  },
  {
   "cell_type": "code",
   "execution_count": 11,
   "id": "c8035ffd",
   "metadata": {},
   "outputs": [
    {
     "name": "stdout",
     "output_type": "stream",
     "text": [
      "nums_odds_zero = [1, 0, 3, 0, 5]\n"
     ]
    }
   ],
   "source": [
    "#1부터 5까지 순차적으로 num에 대입하고,\n",
    "#num이 홀수이면 리스트에 그 값을 추가하고 아니면 0을 추가\n",
    "nums_odds_zero = [num if num % 2 == 1 else 0 for num in range(1, 6)]\n",
    "print(f'{nums_odds_zero = }')"
   ]
  },
  {
   "cell_type": "code",
   "execution_count": 13,
   "id": "cb93abd7",
   "metadata": {},
   "outputs": [
    {
     "name": "stdout",
     "output_type": "stream",
     "text": [
      "nums_odds_less4 =[1, 3]\n"
     ]
    }
   ],
   "source": [
    "#1부터 5까지 순차적으로 num에 대입하고,\n",
    "#num이 홀수이면서 4보다 작으면 리스트에 추가\n",
    "nums_odds_less4 = [num for num in range(1, 6) if num % 2 == 1 if num < 4]\n",
    "print(f'{nums_odds_less4 =}')"
   ]
  },
  {
   "cell_type": "markdown",
   "id": "68e714b6",
   "metadata": {},
   "source": [
    "중첩된 리스트 컴프리헨션 "
   ]
  },
  {
   "cell_type": "code",
   "execution_count": 14,
   "id": "8888a10d",
   "metadata": {},
   "outputs": [
    {
     "name": "stdout",
     "output_type": "stream",
     "text": [
      "nums_pairs = [(1, 'a'), (1, 'b'), (1, 'c'), (2, 'a'), (2, 'b'), (2, 'c')]\n"
     ]
    }
   ],
   "source": [
    "#1부터 2까지 순차적으로 x에 대입하고,\n",
    "#1부터 2까지 순차적으로 y에 대입하여 (x,y)를 리스트에 추가\n",
    "#앞의 for문이 먼저 실행되고, 뒤의 for문이 실행됨\n",
    "nums_pairs = [(x, y) for x in range(1,3) for y in ['a', 'b', 'c']]\n",
    "print(f'{nums_pairs = }')"
   ]
  },
  {
   "cell_type": "code",
   "execution_count": 16,
   "id": "fd5e69a5",
   "metadata": {},
   "outputs": [
    {
     "name": "stdout",
     "output_type": "stream",
     "text": [
      "num_pairs_sum5 = [(1, 4), (2, 3), (3, 2), (4, 1)]\n"
     ]
    }
   ],
   "source": [
    "#1부터 5까지 순차적으로 x에 대입하고,\n",
    "#1부터 5까지 순차적으로 y에 대입하여\n",
    "#x+y가 5이면 (x,y)를 리스트에 추가\n",
    "num_pairs_sum5 = [(x, y) for x in range(1, 6) for y in range(1, 6) if x + y == 5]\n",
    "print(f'{num_pairs_sum5 = }') #리스트 출력"
   ]
  },
  {
   "cell_type": "markdown",
   "id": "f9c90cba",
   "metadata": {},
   "source": [
    "딕셔너리 컴프리헨션 "
   ]
  },
  {
   "cell_type": "code",
   "execution_count": 17,
   "id": "006355d2",
   "metadata": {},
   "outputs": [
    {
     "name": "stdout",
     "output_type": "stream",
     "text": [
      "students_for = {1: '최딕션', 2: '최딕션', 3: '최딕션', 4: '최딕션'}\n"
     ]
    }
   ],
   "source": [
    "ids = [1, 2, 3, 4]\n",
    "student_names = ['김홍익', '이컴프리', '박헨션', '최딕션']\n",
    "\n",
    "#중첩된 for문으로는 정상적으로 딕셔너리를 생성할 수 없음\n",
    "students_for = {id:name for id in ids for name in student_names}\n",
    "\n",
    "#딕셔너리 출력\n",
    "print(f'{students_for = }')"
   ]
  },
  {
   "cell_type": "code",
   "execution_count": 18,
   "id": "a82efbe4",
   "metadata": {},
   "outputs": [
    {
     "name": "stdout",
     "output_type": "stream",
     "text": [
      "students_enumerate = {0: '김홍익', 1: '이컴프리', 2: '박헨션', 3: '최딕션'}\n"
     ]
    }
   ],
   "source": [
    "students_names = ['김홍익', '이컴프리', '박헨션', '최딕션']\n",
    "\n",
    "#enumerate() 함수로 인덱스와 값을 동시에 가져옴\n",
    "students_enumerate = {id:name for id, name in enumerate(student_names)}\n",
    "print(f'{students_enumerate = }')"
   ]
  },
  {
   "cell_type": "code",
   "execution_count": 19,
   "id": "aaeaba1b",
   "metadata": {},
   "outputs": [
    {
     "name": "stdout",
     "output_type": "stream",
     "text": [
      "students_zip = {1: '김홍익', 2: '이컴프리', 3: '박헨션', 4: '최딕션'}\n"
     ]
    }
   ],
   "source": [
    "ids = [1, 2, 3, 4]\n",
    "student_names = ['김홍익', '이컴프리', '박헨션', '최딕션']\n",
    "\n",
    "#zip() 함수로 두 리스트를 병렬로 가져옴\n",
    "students_zip = {id:name for id, name in zip(ids, student_names)}\n",
    "print(f'{students_zip = }')"
   ]
  },
  {
   "cell_type": "markdown",
   "id": "28c20997",
   "metadata": {},
   "source": [
    "set 컴프리헨션 "
   ]
  },
  {
   "cell_type": "code",
   "execution_count": 20,
   "id": "3c22d3f7",
   "metadata": {},
   "outputs": [
    {
     "name": "stdout",
     "output_type": "stream",
     "text": [
      "sum_list = [2, 3, 4, 5, 6, 3, 4, 5, 6, 7, 4, 5, 6, 7, 8, 5, 6, 7, 8, 9, 6, 7, 8, 9, 10]\n",
      "\n",
      "sum_set = {2, 3, 4, 5, 6, 7, 8, 9, 10}\n"
     ]
    }
   ],
   "source": [
    "#1부터 5까지 순차적으로 x에 대입하고,\n",
    "#1부터 5까지 순차적으로 y에 대입하여 x+y에 대한 리스트 생성\n",
    "sum_list = [x+y for x in range(1, 6) for y in range(1, 6)]\n",
    "\n",
    "#리스트 출력, 중복된 값이 있음\n",
    "print(f'{sum_list = }\\n')\n",
    "\n",
    "#1부터 5까지 순차적으로 x에 대입하고\n",
    "#1부터 5까지 순차적으로 y에 대입하여 x+y에 대한 set 생성\n",
    "sum_set = {x+y for x in range(1, 6) for y in range(1, 6)}\n",
    "\n",
    "#set 출력, 중복된 값이 없음\n",
    "print(f'{sum_set = }')"
   ]
  },
  {
   "cell_type": "markdown",
   "id": "63ce04a1",
   "metadata": {},
   "source": [
    "tuple 컴프리헨션 "
   ]
  },
  {
   "cell_type": "code",
   "execution_count": 21,
   "id": "29bc771f",
   "metadata": {},
   "outputs": [
    {
     "name": "stdout",
     "output_type": "stream",
     "text": [
      "nums_pairs_list = [(1, 'a'), (1, 'b'), (1, 'c'), (2, 'a'), (2, 'b'), (2, 'c')]\n",
      "\n",
      "nums_pairs_tuple = <generator object <genexpr> at 0x000001CC89721620>\n",
      "\n",
      "tuple(nums_pairs_tuple) = ((1, 'a'), (1, 'b'), (1, 'c'), (2, 'a'), (2, 'b'), (2, 'c'))\n",
      "\n",
      "nums_pairs_tuple2 = ((1, 'a'), (1, 'b'), (1, 'c'), (2, 'a'), (2, 'b'), (2, 'c'))\n"
     ]
    }
   ],
   "source": [
    "#1부터 2까지 순차적으로 x에 대입하고,\n",
    "#1부터 2까지 순차적으로 y에 대입하여 (x, y)를 리스트에 추가\n",
    "#앞의 for문이 먼저 실행되고, 뒤의 for문이 실행됨\n",
    "nums_pairs_list = [(x, y) for x in range(1, 3) for y in ['a', 'b', 'c']]\n",
    "\n",
    "#리스트 출력\n",
    "print(f'{nums_pairs_list = }\\n')\n",
    "\n",
    "#tuple로 컴프리헨션 적용\n",
    "nums_pairs_tuple = ((x, y) for x in range(1, 3) for y in ['a', 'b', 'c'])\n",
    "\n",
    "#제너레이터 객체가 생성됨\n",
    "print(f'{nums_pairs_tuple = }\\n')\n",
    "\n",
    "#튜플로 변환\n",
    "print(f'{tuple(nums_pairs_tuple) = }\\n')\n",
    "\n",
    "#한 번에 튜플로 컴프리헨션 적용\n",
    "nums_pairs_tuple2 = tuple((x, y) for x in range(1, 3) for y in ['a', 'b', 'c'])\n",
    "print(f'{nums_pairs_tuple2 = }')"
   ]
  }
 ],
 "metadata": {
  "kernelspec": {
   "display_name": "Python 3",
   "language": "python",
   "name": "python3"
  },
  "language_info": {
   "codemirror_mode": {
    "name": "ipython",
    "version": 3
   },
   "file_extension": ".py",
   "mimetype": "text/x-python",
   "name": "python",
   "nbconvert_exporter": "python",
   "pygments_lexer": "ipython3",
   "version": "3.13.2"
  }
 },
 "nbformat": 4,
 "nbformat_minor": 5
}
