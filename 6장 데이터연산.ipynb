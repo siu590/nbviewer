{
 "cells": [
  {
   "cell_type": "markdown",
   "id": "568c790b",
   "metadata": {},
   "source": [
    "C521014 김시우"
   ]
  },
  {
   "cell_type": "markdown",
   "id": "be644f17",
   "metadata": {},
   "source": [
    "산술연산 "
   ]
  },
  {
   "cell_type": "code",
   "execution_count": 1,
   "id": "761ca607",
   "metadata": {},
   "outputs": [
    {
     "name": "stdout",
     "output_type": "stream",
     "text": [
      "2+3 = 5\n",
      "2.0+3 = 5.0\n",
      "2.0+3.0 = 5.0\n",
      "'2'+'3' = '23'\n",
      "unsupported operand type(s) for +: 'int' and 'str'\n"
     ]
    }
   ],
   "source": [
    "print(f'{2+3 = }') #정수 + 정수 = 정수\n",
    "print(f'{2.0+3 = }') #실수 + 정수 = 실수\n",
    "print(f'{2.0+3.0 = }') #실수 + 실수 = 실수\n",
    "print(f'{'2'+'3' = }') #문자열 + 문자열 = 문자열\n",
    "\n",
    "#에러 발생\n",
    "try :\n",
    "    print(f'{2+'3' = }') #정수 + 문자열 = 에러\n",
    "except Exception as e :\n",
    "    print(e)"
   ]
  },
  {
   "cell_type": "code",
   "execution_count": 2,
   "id": "3f6ac94f",
   "metadata": {},
   "outputs": [
    {
     "name": "stdout",
     "output_type": "stream",
     "text": [
      "2-3 = -1\n",
      "2.0-3 = -1.0\n",
      "2.0-3.0 = -1.0\n",
      "2*3 = 6\n",
      "2.0*3 = 6.0\n",
      "2.0*3.0 = 6.0\n",
      "2/3 = 0.6666666666666666\n",
      "2.0/3 = 0.6666666666666666\n",
      "2.0/3.0 = 0.6666666666666666\n"
     ]
    }
   ],
   "source": [
    "print(f'{2-3 = }') #정수 - 정수 = 정수\n",
    "print(f'{2.0-3 = }') #실수 - 정수 = 정수\n",
    "print(f'{2.0-3.0 = }') #실수 - 실수 = 실수\n",
    "print(f'{2*3 = }') #정수 * 정수 = 정수\n",
    "print(f'{2.0*3 = }') #실수 * 정수 = 실수\n",
    "print(f'{2.0*3.0 = }') #실수 * 실수 = 실수\n",
    "print(f'{2/3 = }') #정수 / 정수 = 정수\n",
    "print(f'{2.0/3 = }') #실수 / 정수 = 실수\n",
    "print(f'{2.0/3.0 = }') #실수 / 실수 = 실수"
   ]
  },
  {
   "cell_type": "code",
   "execution_count": 3,
   "id": "5c2f031b",
   "metadata": {},
   "outputs": [
    {
     "name": "stdout",
     "output_type": "stream",
     "text": [
      "20//3 = 6\n",
      "20%3 = 2\n"
     ]
    }
   ],
   "source": [
    "#몫\n",
    "print(f'{20//3 = }')\n",
    "\n",
    "#나머지\n",
    "print(f'{20%3 = }')"
   ]
  },
  {
   "cell_type": "code",
   "execution_count": 4,
   "id": "dc9bb253",
   "metadata": {},
   "outputs": [
    {
     "name": "stdout",
     "output_type": "stream",
     "text": [
      "2**3 = 8\n"
     ]
    }
   ],
   "source": [
    "#거듭제곱\n",
    "print(f'{2**3 = }')"
   ]
  },
  {
   "cell_type": "code",
   "execution_count": 5,
   "id": "1b2b6860",
   "metadata": {},
   "outputs": [
    {
     "name": "stdout",
     "output_type": "stream",
     "text": [
      "var_x + var_x = 'AbcAbc'\n",
      "var_y + var_y = [100, 2, 3, 100, 2, 3]\n",
      "var_x * 3 = 'AbcAbcAbc'\n",
      "var_y * 3 = [100, 2, 3, 100, 2, 3, 100, 2, 3]\n"
     ]
    }
   ],
   "source": [
    "var_x = 'Abc'\n",
    "var_y = [100, 2, 3]\n",
    "\n",
    "#문자열과 문자열의 합\n",
    "print(f'{var_x + var_x = }')\n",
    "\n",
    "#리스트와 리스트의 합\n",
    "print(f'{var_y + var_y = }')\n",
    "\n",
    "#문자열과 정수의 곱\n",
    "print(f'{var_x * 3 = }')\n",
    "\n",
    "#리스트와 정수의 곱\n",
    "print(f'{var_y * 3 = }')"
   ]
  },
  {
   "cell_type": "markdown",
   "id": "0f74cc05",
   "metadata": {},
   "source": [
    "비교연산"
   ]
  },
  {
   "cell_type": "code",
   "execution_count": 7,
   "id": "40a8a89e",
   "metadata": {},
   "outputs": [
    {
     "name": "stdout",
     "output_type": "stream",
     "text": [
      "2==3 = False\n",
      "2!=3 = True\n",
      "2>3 = False\n",
      "2<3 = True\n",
      "2>=3 = False\n",
      "2<=3 = True\n"
     ]
    }
   ],
   "source": [
    "print(f'{2==3 = }')\n",
    "print(f'{2!=3 = }')\n",
    "print(f'{2>3 = }')\n",
    "print(f'{2<3 = }')\n",
    "print(f'{2>=3 = }')\n",
    "print(f'{2<=3 = }')"
   ]
  },
  {
   "cell_type": "code",
   "execution_count": 8,
   "id": "27e7d811",
   "metadata": {},
   "outputs": [
    {
     "name": "stdout",
     "output_type": "stream",
     "text": [
      "(var_y == [1,2,3]) = True\n",
      "(var_y == (1,2,3)) = False\n",
      "(var_y == [1,2]) = False\n",
      "(var_y != [1,2]) = True\n",
      "(var_y > [1,2]) = True\n",
      "(var_y < [1,2]) = False\n"
     ]
    }
   ],
   "source": [
    "#변수 var_y에 리스트 [1,2,3]을 할당\n",
    "var_y = [1,2,3]\n",
    "\n",
    "print(f'{(var_y == [1,2,3]) = }') #var_y와 [1,2,3]이 같은지 비교\n",
    "print(f'{(var_y == (1,2,3)) = }') #var_y와 (1,2,3)이 같은지 비교\n",
    "print(f'{(var_y == [1,2]) = }') #var_y와 [1,2]가 같은지 비교\n",
    "print(f'{(var_y != [1,2]) = }') #var_y와 [1,2]가 다른지 비교\n",
    "print(f'{(var_y > [1,2]) = }') #var_y와 [1,2]보다 큰지 비교\n",
    "print(f'{(var_y < [1,2]) = }') #var_y와 [1,2]보다 작은지 비교"
   ]
  },
  {
   "cell_type": "markdown",
   "id": "4145296c",
   "metadata": {},
   "source": [
    "논리 연산 "
   ]
  },
  {
   "cell_type": "code",
   "execution_count": 9,
   "id": "42197b8b",
   "metadata": {},
   "outputs": [
    {
     "data": {
      "text/plain": [
       "True"
      ]
     },
     "execution_count": 9,
     "metadata": {},
     "output_type": "execute_result"
    }
   ],
   "source": [
    "#True와 True를 and 연산\n",
    "True and True"
   ]
  },
  {
   "cell_type": "code",
   "execution_count": 10,
   "id": "bfacd0aa",
   "metadata": {},
   "outputs": [
    {
     "name": "stdout",
     "output_type": "stream",
     "text": [
      "var_y = False\n",
      "(var_x and var_y) = False\n",
      "(var_x or var_y) = True\n",
      "(not var_x) = False\n"
     ]
    }
   ],
   "source": [
    "#변수 var_x에 불리언 True를 할당\n",
    "var_x = True\n",
    "\n",
    "#변수 var_y에 10 > 20의 결과를 할당\n",
    "var_y = (10 > 20)\n",
    "\n",
    "print(f'{var_y = }') #var_y의 값을 출력\n",
    "print(f'{(var_x and var_y) = }') #var_x와 var_y의 논리곱을 출력\n",
    "print(f'{(var_x or var_y) = }') #var_x와 var_y의 논리합을 출력\n",
    "print(f'{(not var_x) = }') #var_x의 논리부정을 출력"
   ]
  },
  {
   "cell_type": "code",
   "execution_count": 11,
   "id": "66ab7f85",
   "metadata": {},
   "outputs": [
    {
     "name": "stdout",
     "output_type": "stream",
     "text": [
      "(2==3) and (2!=3) = False\n"
     ]
    }
   ],
   "source": [
    "#관계연산자와 논리연산자를 함께 사용\n",
    "print(f'{(2==3) and (2!=3) = }')"
   ]
  },
  {
   "cell_type": "markdown",
   "id": "fa99637b",
   "metadata": {},
   "source": [
    "멤버십 연산 "
   ]
  },
  {
   "cell_type": "code",
   "execution_count": 12,
   "id": "61db2c9e",
   "metadata": {},
   "outputs": [
    {
     "name": "stdout",
     "output_type": "stream",
     "text": [
      "(1 in var_y) = True\n",
      "('1' in var_y) = False\n",
      "(4 in var_y) = False\n",
      "(1 not in var_y) = False\n",
      "(4 not in var_y) = True\n"
     ]
    }
   ],
   "source": [
    "#변수 var_y에 리스트 [1,2,3]을 할당\n",
    "var_y = [1,2,3]\n",
    "\n",
    "print(f'{(1 in var_y) = }') #1이 var_y에 포함되어 있는지 확인\n",
    "print(f'{('1' in var_y) = }') #문자열 1이 var_y에 포함되어 있는지 확인\n",
    "print(f'{(4 in var_y) = }') #4가 var_y에 포함되어 있는지 확인\n",
    "print(f'{(1 not in var_y) = }') #1이 var_y에 포함되어 있지 않은지 확인\n",
    "print(f'{(4 not in var_y) = }') #4가 var_y에 포함되어 있지 않은지 확인"
   ]
  },
  {
   "cell_type": "markdown",
   "id": "e8cd0998",
   "metadata": {},
   "source": [
    "식별 연산"
   ]
  },
  {
   "cell_type": "code",
   "execution_count": 13,
   "id": "accd55ab",
   "metadata": {},
   "outputs": [
    {
     "name": "stdout",
     "output_type": "stream",
     "text": [
      "(var_x == 10) = True\n",
      "(var_x is 10) = True\n"
     ]
    },
    {
     "name": "stderr",
     "output_type": "stream",
     "text": [
      "<>:8: SyntaxWarning: \"is\" with 'int' literal. Did you mean \"==\"?\n",
      "<>:8: SyntaxWarning: \"is\" with 'int' literal. Did you mean \"==\"?\n",
      "C:\\Users\\LG\\AppData\\Local\\Temp\\ipykernel_8156\\2526073596.py:8: SyntaxWarning: \"is\" with 'int' literal. Did you mean \"==\"?\n",
      "  print(f'{(var_x is 10) = }')\n"
     ]
    }
   ],
   "source": [
    "#변수 var_x에 정수 10을 할당\n",
    "var_x = 10\n",
    "\n",
    "#var_x가 10과 값이 같은지 확인\n",
    "print(f'{(var_x == 10) = }')\n",
    "\n",
    "#var_x가 10주소가 같은 지 확인 -> 경고 발생\n",
    "print(f'{(var_x is 10) = }')"
   ]
  },
  {
   "cell_type": "code",
   "execution_count": 14,
   "id": "2e1a6378",
   "metadata": {},
   "outputs": [
    {
     "name": "stdout",
     "output_type": "stream",
     "text": [
      "(var_x is var_y) = False\n",
      "(var_x is var_z) = True\n",
      "(var_x is not var_y) = True\n",
      "(var_x is not var_z) = False\n"
     ]
    }
   ],
   "source": [
    "var_x = 10 #변수 var_x에 정수 10을 할당\n",
    "var_y = 10.0 #변수 var_y에 실수 10.0을 할당\n",
    "var_z = var_x #변수 var_x에 var_y를 할당\n",
    "\n",
    "print(f'{(var_x is var_y) = }') #var_x와 var_y의 주소가 같은지 확인\n",
    "print(f'{(var_x is var_z) = }') #var_x와 var_z의 주소가 같은지 확인\n",
    "print(f'{(var_x is not var_y) = }') #var_x와 var_y의 주소가 다른지 확인\n",
    "print(f'{(var_x is not var_z) = }') #var_x와 var_y의 주소가 다른지 확인"
   ]
  },
  {
   "cell_type": "markdown",
   "id": "9b6ac273",
   "metadata": {},
   "source": [
    "복합 대입 연산자 "
   ]
  },
  {
   "cell_type": "code",
   "execution_count": 16,
   "id": "bd61526f",
   "metadata": {},
   "outputs": [
    {
     "name": "stdout",
     "output_type": "stream",
     "text": [
      "2\n"
     ]
    }
   ],
   "source": [
    "var_x = 1\n",
    "\n",
    "#var_x = var_x + 1\n",
    "var_x += 1\n",
    "\n",
    "print(var_x)"
   ]
  },
  {
   "cell_type": "code",
   "execution_count": 17,
   "id": "e9b2d306",
   "metadata": {},
   "outputs": [
    {
     "name": "stdout",
     "output_type": "stream",
     "text": [
      "11\n",
      "10.0\n",
      "20\n",
      "10.0\n",
      "5.0\n",
      "1.0\n",
      "1.0\n"
     ]
    }
   ],
   "source": [
    "var_x = 1\n",
    "\n",
    "# ; 세미콜론으로 한 줄에 여러 개의 명령어를 작성 가능\n",
    "var_x += 10; print(var_x) #더하기\n",
    "var_x -= 1; print(var_y) #빼기\n",
    "var_x *= 2; print(var_x) #곱하기\n",
    "var_x /= 2; print(var_x) #나누기\n",
    "var_x //= 2; print(var_x) #몫 \n",
    "var_x %= 2; print(var_x) #나머지\n",
    "var_x **= 2; print(var_x) #거듭제곱"
   ]
  },
  {
   "cell_type": "markdown",
   "id": "f223e890",
   "metadata": {},
   "source": [
    "연산의 중첩 "
   ]
  },
  {
   "cell_type": "code",
   "execution_count": 18,
   "id": "d65dfe40",
   "metadata": {},
   "outputs": [
    {
     "name": "stdout",
     "output_type": "stream",
     "text": [
      "13\n",
      "256\n",
      "True\n",
      "False\n",
      "False\n"
     ]
    }
   ],
   "source": [
    "print(2**3+5) #2의 3제곱에 5를 더한 결과를 출력\n",
    "print(2**(3+5)) #2의 3+5제곱을 출력\n",
    "print(2+3<=4*5) #2+3이 4+5보다 작거나 같은지를 출력\n",
    "print(not 2+3<=4*5) #2+3이 4*5보다 작거나 같지 않은지를 출력\n",
    "print(not ((2+3)<=(4*5))) #2+3이 4*5보다 작거나 같지 않은지를 출력력"
   ]
  }
 ],
 "metadata": {
  "kernelspec": {
   "display_name": "Python 3",
   "language": "python",
   "name": "python3"
  },
  "language_info": {
   "codemirror_mode": {
    "name": "ipython",
    "version": 3
   },
   "file_extension": ".py",
   "mimetype": "text/x-python",
   "name": "python",
   "nbconvert_exporter": "python",
   "pygments_lexer": "ipython3",
   "version": "3.13.2"
  }
 },
 "nbformat": 4,
 "nbformat_minor": 5
}
