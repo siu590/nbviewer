{
 "cells": [
  {
   "cell_type": "markdown",
   "id": "7e83e622",
   "metadata": {},
   "source": [
    "C521014 김시우 "
   ]
  },
  {
   "cell_type": "markdown",
   "id": "b4e93ff7",
   "metadata": {},
   "source": [
    "데이터 유형의 확인"
   ]
  },
  {
   "cell_type": "code",
   "execution_count": 1,
   "id": "15c86561",
   "metadata": {},
   "outputs": [
    {
     "name": "stdout",
     "output_type": "stream",
     "text": [
      "x_value = 12345\n",
      "type(x_value) = <class 'int'>\n"
     ]
    }
   ],
   "source": [
    "#x_value에 정수 12345를 할당\n",
    "x_value = 12345\n",
    "\n",
    "#x_value의 값과 자료형을 출력\n",
    "print(f'{x_value = }\\n{type(x_value) = }')\n",
    "\n",
    "#x_value의 유형은 클래스(class) 'int'임. 즉, 객체(object)임"
   ]
  },
  {
   "cell_type": "code",
   "execution_count": 2,
   "id": "a1af3437",
   "metadata": {},
   "outputs": [
    {
     "name": "stdout",
     "output_type": "stream",
     "text": [
      "x_str = 'abcde'\n",
      "type(x_str) = <class 'str'>\n"
     ]
    }
   ],
   "source": [
    "#x_str에 문자열 'abcde'를 할당\n",
    "x_str = 'abcde'\n",
    "\n",
    "#x_str의 값과 자료형을 출력\n",
    "print(f'{x_str = }\\n{type(x_str) = }')"
   ]
  },
  {
   "cell_type": "code",
   "execution_count": null,
   "id": "38a7150c",
   "metadata": {},
   "outputs": [
    {
     "name": "stdout",
     "output_type": "stream",
     "text": [
      "x_list = ['abcde', 12345]\n",
      "type(x_list) = <class 'list'>\n"
     ]
    }
   ],
   "source": [
    "#x_list에 x_str과 x_value를 원소로 갖는 리스트를 할당\n",
    "x_list = [x_str, x_value]\n",
    "\n",
    "#x_list의 값과 자료형을 출력\n",
    "print(f'{x_list = }\\n{type(x_list) = }')"
   ]
  },
  {
   "cell_type": "code",
   "execution_count": 4,
   "id": "6283ef71",
   "metadata": {},
   "outputs": [
    {
     "name": "stdout",
     "output_type": "stream",
     "text": [
      "x_tuple = ('abcde', 12345)\n",
      "type(x_tuple) = <class 'tuple'>\n"
     ]
    }
   ],
   "source": [
    "#x_tuple에 x_str과 x_value를 원소로 갖는 튜플을 할당\n",
    "x_tuple = (x_str, x_value)\n",
    "\n",
    "#x_tuple의 값과 자료형을 출력\n",
    "print(f'{x_tuple = }\\n{type(x_tuple) = }')"
   ]
  },
  {
   "cell_type": "code",
   "execution_count": 5,
   "id": "e8b3885a",
   "metadata": {},
   "outputs": [
    {
     "name": "stdout",
     "output_type": "stream",
     "text": [
      "x_dict = {'name': 'Seewoo Kim', 'id': 67890}\n",
      "type(x_dict) = <class 'dict'>\n"
     ]
    }
   ],
   "source": [
    "#x_dict에 key가 'name'과 'id'이고 value가 'Seewoo Kim'와 67890인 딕셔너리를 할당\n",
    "x_dict = {'name': 'Seewoo Kim', 'id':67890}\n",
    "\n",
    "#x_dict의 값과 자료형을 출력\n",
    "print(f'{x_dict = }\\n{type(x_dict) = }')"
   ]
  },
  {
   "cell_type": "code",
   "execution_count": 6,
   "id": "69a028bf",
   "metadata": {},
   "outputs": [
    {
     "name": "stdout",
     "output_type": "stream",
     "text": [
      "x_none = None\n",
      "type(x_none) = <class 'NoneType'>\n"
     ]
    }
   ],
   "source": [
    "#x_none에 None을 할당\n",
    "x_none = None\n",
    "\n",
    "#x_none의 값과 자료형을 출력\n",
    "print(f'{x_none = }\\n{type(x_none) = }')"
   ]
  },
  {
   "cell_type": "markdown",
   "id": "60467e8f",
   "metadata": {},
   "source": [
    "변수는 객체"
   ]
  },
  {
   "cell_type": "code",
   "execution_count": 7,
   "id": "ce0bfbe0",
   "metadata": {},
   "outputs": [
    {
     "name": "stdout",
     "output_type": "stream",
     "text": [
      "['__abs__', '__add__', '__and__', '__bool__', '__ceil__', '__class__', '__delattr__', '__dir__', '__divmod__', '__doc__', '__eq__', '__float__', '__floor__', '__floordiv__', '__format__', '__ge__', '__getattribute__', '__getnewargs__', '__getstate__', '__gt__', '__hash__', '__index__', '__init__', '__init_subclass__', '__int__', '__invert__', '__le__', '__lshift__', '__lt__', '__mod__', '__mul__', '__ne__', '__neg__', '__new__', '__or__', '__pos__', '__pow__', '__radd__', '__rand__', '__rdivmod__', '__reduce__', '__reduce_ex__', '__repr__', '__rfloordiv__', '__rlshift__', '__rmod__', '__rmul__', '__ror__', '__round__', '__rpow__', '__rrshift__', '__rshift__', '__rsub__', '__rtruediv__', '__rxor__', '__setattr__', '__sizeof__', '__str__', '__sub__', '__subclasshook__', '__truediv__', '__trunc__', '__xor__', 'as_integer_ratio', 'bit_count', 'bit_length', 'conjugate', 'denominator', 'from_bytes', 'imag', 'is_integer', 'numerator', 'real', 'to_bytes']\n"
     ]
    }
   ],
   "source": [
    "#x_value의 속성과 메소드를 출력\n",
    "print(dir(x_value))"
   ]
  },
  {
   "cell_type": "code",
   "execution_count": 8,
   "id": "a7f47144",
   "metadata": {},
   "outputs": [
    {
     "name": "stdout",
     "output_type": "stream",
     "text": [
      "x_value.real = 12345\n",
      "x_value.bit_length() = 14\n"
     ]
    }
   ],
   "source": [
    "#x_value의 실수부(속성)를 출력\n",
    "print(f'{x_value.real = }')\n",
    "\n",
    "#x_value의 비트 수를 계산(메서드)하여 출력\n",
    "print(f'{x_value.bit_length() = }')"
   ]
  },
  {
   "cell_type": "markdown",
   "id": "f66ccbab",
   "metadata": {},
   "source": [
    "mutable:리스트"
   ]
  },
  {
   "cell_type": "code",
   "execution_count": 9,
   "id": "92ebf2f4",
   "metadata": {},
   "outputs": [
    {
     "name": "stdout",
     "output_type": "stream",
     "text": [
      "Before: x_list = ['abcde', 12345]\n",
      "After: x_list = ['abcde', 'fghij']\n"
     ]
    }
   ],
   "source": [
    "x_list = ['abcde', 12345]\n",
    "\n",
    "#원소 변경전 x_list의 값을 출력\n",
    "print(f'Before: {x_list = }')\n",
    "\n",
    "#인덱스1 원소를 'fghij'로 변경\n",
    "x_list[1] = 'fghij'\n",
    "\n",
    "#원소 변경후 x_list의 값을 출력\n",
    "print(f'After: {x_list = }')"
   ]
  },
  {
   "cell_type": "markdown",
   "id": "fb208375",
   "metadata": {},
   "source": [
    "mutable:딕셔너리"
   ]
  },
  {
   "cell_type": "code",
   "execution_count": 10,
   "id": "f2364966",
   "metadata": {},
   "outputs": [
    {
     "name": "stdout",
     "output_type": "stream",
     "text": [
      "Before: x_dict = {'name': 'Seewoo Kim', 'id': 67890}\n",
      "After: x_dict = {'name': 'Gildong Hong', 'id': 67890}\n"
     ]
    }
   ],
   "source": [
    "x_dict = {'name': 'Seewoo Kim', 'id':67890}\n",
    "\n",
    "#원소 변경전 x_dict의 값을 출력\n",
    "print(f'Before: {x_dict = }')\n",
    "\n",
    "#key가 'name'인 원소를 'Gildong Hong'으로 변경\n",
    "x_dict['name'] = 'Gildong Hong'\n",
    "\n",
    "#원소 변경후 x_dict의 값을 출력\n",
    "print(f'After: {x_dict = }')"
   ]
  },
  {
   "cell_type": "markdown",
   "id": "70e6a3ef",
   "metadata": {},
   "source": [
    "immutable:문자열 -> 원소 바꾸기 불가"
   ]
  },
  {
   "cell_type": "code",
   "execution_count": 12,
   "id": "a7d2fe54",
   "metadata": {},
   "outputs": [
    {
     "name": "stdout",
     "output_type": "stream",
     "text": [
      "Before: x_str = 'abcde'\n",
      "Error: 'str' object does not support item assignment\n",
      "After: x_str = 'abcde'\n"
     ]
    }
   ],
   "source": [
    "x_str = 'abcde'\n",
    "\n",
    "#원소 변경전 x_str의 값을 출력\n",
    "print(f'Before: {x_str = }')\n",
    "\n",
    "#try블록 안의 코드를 실행하다가 에러가 발생하면 except 블록의 코드를 실행\n",
    "try :\n",
    "    #인덱스 1 원소를 '2'로 변경. 문자열은 immitable 자료형이므로 에러 발생\n",
    "    x_str[1] = '2'\n",
    "except TypeError as e : #에러 발생시 에러 메시지를 e에 할당\n",
    "    #에러 메시지 출력\n",
    "    print(f'Error: {e}')\n",
    "\n",
    "#원소 변경후 x_str의 값을 출력\n",
    "print(f'After: {x_str = }')"
   ]
  },
  {
   "cell_type": "markdown",
   "id": "e54db2f6",
   "metadata": {},
   "source": [
    "immutable:튜플 -> 원소 바꾸기 불가 "
   ]
  },
  {
   "cell_type": "code",
   "execution_count": 13,
   "id": "c9493f05",
   "metadata": {},
   "outputs": [
    {
     "name": "stdout",
     "output_type": "stream",
     "text": [
      "Before: x_tuple = ('abcde', 12345)\n",
      "Error: 'tuple' object does not support item assignment\n",
      "After: x_tuple = ('abcde', 12345)\n"
     ]
    }
   ],
   "source": [
    "x_tuple = ('abcde', 12345)\n",
    "\n",
    "#원소 변경전 x_str의 값을 출력\n",
    "print(f'Before: {x_tuple = }')\n",
    "\n",
    "#try블록 안의 코드를 실행하다가 에러가 발생하면 except 블록의 코드를 실행\n",
    "try :\n",
    "    #인덱스 1 원소를 '2'로 변경. 문자열은 immitable 자료형이므로 에러 발생\n",
    "    x_tuple[1] = 'fghij'\n",
    "except TypeError as e : #에러 발생시 에러 메시지를 e에 할당\n",
    "    #에러 메시지 출력\n",
    "    print(f'Error: {e}')\n",
    "\n",
    "#원소 변경후 x_str의 값을 출력\n",
    "print(f'After: {x_tuple = }')"
   ]
  },
  {
   "cell_type": "markdown",
   "id": "35d4de51",
   "metadata": {},
   "source": [
    "단일 자료형 변환 함수 "
   ]
  },
  {
   "cell_type": "code",
   "execution_count": 16,
   "id": "78facd59",
   "metadata": {},
   "outputs": [
    {
     "name": "stdout",
     "output_type": "stream",
     "text": [
      "12345는 <class 'int'>\n",
      "------------------------------\n",
      "12345.0은 <class 'float'>\n",
      "------------------------------\n",
      "12345는는 <class 'str'>\n",
      "------------------------------\n",
      "True는 <class 'bool'>\n"
     ]
    }
   ],
   "source": [
    "#var_x에 정수 12345를 할당\n",
    "var_x = 12345\n",
    "\n",
    "#var_x의 값과 자료형을 출력\n",
    "#마지막(end=)에 줄바꿈('\\n')과 구분선('-' 30개) 그리고 줄바꿈('\\n')을 추가\n",
    "print(f'{var_x}는 {type(var_x)}', end='\\n'+'-'*30+'\\n')\n",
    "\n",
    "\n",
    "#var_x의 값을 실수형으로 변환하여 var_y에 할당\n",
    "var_y = float(var_x)\n",
    "\n",
    "#var_y의 값과 자료형을 출력\n",
    "print(f'{var_y}은 {type(var_y)}', end='\\n'+'-'*30+'\\n')\n",
    "\n",
    "#var_x의 값을 문자열로 변환하여 var_y에 할당\n",
    "var_y = str(var_x)\n",
    "\n",
    "#var_y의 값과 자료형을 출력\n",
    "print(f'{var_y}는는 {type(var_y)}', end='\\n'+'-'*30+'\\n')\n",
    "\n",
    "\n",
    "#var_x의 값을 불리언으로 변환하여 var_y에 할당\n",
    "#정수 12345는 0이 아니므로 True\n",
    "var_y = bool(var_x)\n",
    "\n",
    "#var_y의 값과 자료형을 출력\n",
    "print(f'{var_y}는 {type(var_y)}')"
   ]
  },
  {
   "cell_type": "markdown",
   "id": "b4e30696",
   "metadata": {},
   "source": [
    "iterabe 자료형 변환 함수 "
   ]
  },
  {
   "cell_type": "code",
   "execution_count": 17,
   "id": "e3b0e746",
   "metadata": {},
   "outputs": [
    {
     "name": "stdout",
     "output_type": "stream",
     "text": [
      "range(-10, 0, 2)는 <class 'range'>\n",
      "------------------------------\n",
      "[-10, -8, -6, -4, -2]는 <class 'list'>\n",
      "------------------------------\n",
      "(-10, -8, -6, -4, -2)는 <class 'tuple'>\n",
      "------------------------------\n",
      "{-10, -8, -6, -4, -2}는 <class 'set'>\n"
     ]
    }
   ],
   "source": [
    "#var_x에 -10부터 0 전까지 2씩 증가하는 range 객체를 할당\n",
    "var_x = range(-10, 0, 2)\n",
    "\n",
    "#var_x의 값과 자료형을 출력\n",
    "print(f'{var_x}는 {type(var_x)}', end='\\n'+'-'*30+'\\n')\n",
    "\n",
    "#var_y에 var_x의 값을 리스트로 변환하여 할당\n",
    "var_y = list(var_x)\n",
    "\n",
    "#var_y의 값과 자료형을 출력\n",
    "print(f'{var_y}는 {type(var_y)}', end='\\n'+'-'*30+'\\n')\n",
    "\n",
    "#var_y에 var_x의 값을 튜플로 변환하여 할당\n",
    "var_y = tuple(var_x)\n",
    "\n",
    "#var_y의 값과 자료형을 출력\n",
    "print(f'{var_y}는 {type(var_y)}', end='\\n'+'-'*30+'\\n')\n",
    "\n",
    "#var_y에 var_x의 값을 집합으로 변환하여 할당\n",
    "var_y = set(var_x)\n",
    "\n",
    "#var_y의 값과 자료형을 출력\n",
    "print(f'{var_y}는 {type(var_y)}')"
   ]
  },
  {
   "cell_type": "code",
   "execution_count": 18,
   "id": "d09faa41",
   "metadata": {},
   "outputs": [
    {
     "name": "stdout",
     "output_type": "stream",
     "text": [
      "abcdabcd는 <class 'str'>\n",
      "------------------------------\n",
      "['a', 'b', 'c', 'd', 'a', 'b', 'c', 'd']는 <class 'list'>\n",
      "------------------------------\n",
      "('a', 'b', 'c', 'd', 'a', 'b', 'c', 'd')는 <class 'tuple'>\n",
      "------------------------------\n",
      "{'a', 'd', 'b', 'c'}는 <class 'set'>\n"
     ]
    }
   ],
   "source": [
    "#var_x에 문자열 'abcdabcd'를 할당. 문자열은 iretable 자료형임.\n",
    "var_x = 'abcdabcd'\n",
    "\n",
    "#var_x의 값과 자료형을 출력\n",
    "print(f'{var_x}는 {type(var_x)}', end='\\n'+'-'*30+'\\n')\n",
    "\n",
    "#var_y에 var_x의 값을 리스트로 변환하여 할당\n",
    "var_y = list(var_x)\n",
    "print(f'{var_y}는 {type(var_y)}', end='\\n'+'-'*30+'\\n')\n",
    "\n",
    "#var_y에 var_x의 값을 튜플로 변환하여 할당\n",
    "var_y = tuple(var_x)\n",
    "print(f'{var_y}는 {type(var_y)}', end='\\n'+'-'*30+'\\n')\n",
    "\n",
    "#var_y에 var_x의 값을 집합으로 변환하여 할당\n",
    "#집합은 중복을 허용하지 않으므로 'abcd'만 남음\n",
    "var_y = set(var_x)\n",
    "print(f'{var_y}는 {type(var_y)}')"
   ]
  }
 ],
 "metadata": {
  "kernelspec": {
   "display_name": "Python 3",
   "language": "python",
   "name": "python3"
  },
  "language_info": {
   "codemirror_mode": {
    "name": "ipython",
    "version": 3
   },
   "file_extension": ".py",
   "mimetype": "text/x-python",
   "name": "python",
   "nbconvert_exporter": "python",
   "pygments_lexer": "ipython3",
   "version": "3.13.2"
  }
 },
 "nbformat": 4,
 "nbformat_minor": 5
}
