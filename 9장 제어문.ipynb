{
 "cells": [
  {
   "cell_type": "markdown",
   "id": "58023b39",
   "metadata": {},
   "source": [
    "분기문 "
   ]
  },
  {
   "cell_type": "code",
   "execution_count": 1,
   "id": "52a7a25a",
   "metadata": {},
   "outputs": [
    {
     "name": "stdout",
     "output_type": "stream",
     "text": [
      "조건이 참입니다.\n",
      "조건문이 종료되었습니다.\n"
     ]
    }
   ],
   "source": [
    "#조건이 참이면 아래의 코드 블록을 실행\n",
    "if True :   #if 문장의 끝은 콜론(;)\n",
    "    #들여쓰기로 if 문장의 범위를 지정\n",
    "    print('조건이 참입니다.')\n",
    "#여기 부터는 들여쓰기가 없으므로 if 문장의 범위가 아님\n",
    "print('조건문이 종료되었습니다.')"
   ]
  },
  {
   "cell_type": "code",
   "execution_count": 2,
   "id": "d8b38233",
   "metadata": {},
   "outputs": [
    {
     "name": "stdout",
     "output_type": "stream",
     "text": [
      "조건문이 종료되었습니다.\n"
     ]
    }
   ],
   "source": [
    "#조건이 참이면 아래의 코드 블록을 실행 -> 조건이 거짓이므로 실행되지 않음\n",
    "if False:   #if 문장의 끝은 콜론(:)\n",
    "    print('조건이 참입니다.')\n",
    "#여기부터는 들여쓰기가 없으므로 if 문장의 범위가 아님\n",
    "print('조건문이 종료되었습니다.')"
   ]
  },
  {
   "cell_type": "markdown",
   "id": "43330863",
   "metadata": {},
   "source": [
    "if문 "
   ]
  },
  {
   "cell_type": "code",
   "execution_count": 3,
   "id": "23c8692b",
   "metadata": {},
   "outputs": [
    {
     "name": "stdout",
     "output_type": "stream",
     "text": [
      "걸어간다.\n"
     ]
    }
   ],
   "source": [
    "money = 100\n",
    "\n",
    "#조건은 (money <= 500)이고, 조건이 참이면 아래의 코드 블록을 실행\n",
    "if money <= 500:\n",
    "    #들여쓰기로 if 문장의 범위를 지정\n",
    "    print('걸어간다.')"
   ]
  },
  {
   "cell_type": "markdown",
   "id": "a0e7d132",
   "metadata": {},
   "source": [
    "if-else문 "
   ]
  },
  {
   "cell_type": "code",
   "execution_count": 4,
   "id": "2a597a12",
   "metadata": {},
   "outputs": [
    {
     "name": "stdout",
     "output_type": "stream",
     "text": [
      "택시탄다.\n"
     ]
    }
   ],
   "source": [
    "money = 1000\n",
    "\n",
    "if money <= 500 :   #if문장의 끝은 콜론(:)\n",
    "    print('걸어간다.')  #들여쓰기로 if 문장의 범위를 지정\n",
    "else :  #else문장의 끝은 콜론(:)\n",
    "    print('택시탄다.')  #들여쓰기로 else 문장의 범위를 지정"
   ]
  },
  {
   "cell_type": "markdown",
   "id": "3c3caf28",
   "metadata": {},
   "source": [
    "if-elif-else문 "
   ]
  },
  {
   "cell_type": "code",
   "execution_count": 5,
   "id": "d4ccfbd1",
   "metadata": {},
   "outputs": [
    {
     "name": "stdout",
     "output_type": "stream",
     "text": [
      "버스 탄다.\n"
     ]
    }
   ],
   "source": [
    "money = 1000\n",
    "\n",
    "#조건은 (money <= 500)이고, 조건이 참이면 아래의 코드를 실행.\n",
    "if money <= 500:\n",
    "    print('걸어간다.')\n",
    "#조건은 (money <= 2500)이고, 조건이 참이면 아래의 코드를 실행.\n",
    "elif money <= 2500 :\n",
    "    print('버스 탄다.')\n",
    "#위의 조건이 모두 거짓이면 아래의 코드를 실행\n",
    "else :\n",
    "    print('택시 탄다.')"
   ]
  },
  {
   "cell_type": "markdown",
   "id": "f30acb91",
   "metadata": {},
   "source": [
    "while문 "
   ]
  },
  {
   "cell_type": "code",
   "execution_count": 6,
   "id": "4b774eb0",
   "metadata": {},
   "outputs": [
    {
     "name": "stdout",
     "output_type": "stream",
     "text": [
      "n= 1\n",
      "n= 2\n",
      "n= 3\n",
      "n= 4\n",
      "n= 5\n"
     ]
    }
   ],
   "source": [
    "#종료 조건을 위한 변수 설정\n",
    "n = 0\n",
    "\n",
    "#n이 5보다 작은 동안 아래의 코드를 반복하여 실행\n",
    "#n이 5가 되면 while문을 빠져나옴(종료조건)\n",
    "while n < 5:    #while 문장의 끝은 콜론(:)\n",
    "    #들여쓰기로 while 문장의 범위를 지정\n",
    "    #n을 1증가. n += 1과 같은 의미\n",
    "    n = n+1\n",
    "    print(\"n=\", n)"
   ]
  },
  {
   "cell_type": "markdown",
   "id": "34958f6a",
   "metadata": {},
   "source": [
    "for문 "
   ]
  },
  {
   "cell_type": "code",
   "execution_count": 7,
   "id": "c941b42a",
   "metadata": {},
   "outputs": [
    {
     "name": "stdout",
     "output_type": "stream",
     "text": [
      "n= 0\n",
      "n= 1\n",
      "n= 2\n",
      "n= 3\n",
      "n= 4\n",
      "n= 5\n"
     ]
    }
   ],
   "source": [
    "#n에 0부터 5까지 할당. range(0,6)은 0부터 5까지의 범위를 의미\n",
    "for n in range(0,6) :\n",
    "    print(\"n=\", n)  #indent 들여쓰기로 for 문장의 범위를 지정"
   ]
  },
  {
   "cell_type": "code",
   "execution_count": 8,
   "id": "f409aae2",
   "metadata": {},
   "outputs": [
    {
     "name": "stdout",
     "output_type": "stream",
     "text": [
      "item = 1\n",
      "item = 2\n",
      "item = 3\n",
      "item = 4\n",
      "item = 5\n"
     ]
    }
   ],
   "source": [
    "x_list = [1, 2, 3, 4, 5]\n",
    "\n",
    "#x_list의 원소를 item에 할당하고, item을 출력\n",
    "for item in x_list:\n",
    "    print(f'{item = }')"
   ]
  },
  {
   "cell_type": "code",
   "execution_count": 9,
   "id": "bb172a09",
   "metadata": {},
   "outputs": [
    {
     "name": "stdout",
     "output_type": "stream",
     "text": [
      "<built-in function len>(x) = 5\n",
      "<built-in function max>(x) = 50\n",
      "<built-in function sum>(x) = 150\n"
     ]
    }
   ],
   "source": [
    "x = [10,20,30,40,50]\n",
    "\n",
    "#len(x), max(x), sum(x)를 순서대로 method에 할당\n",
    "for method in [len, max, sum]:\n",
    "    #method(x)를 출력\n",
    "    print(f'{method}(x) = {method(x)}')"
   ]
  },
  {
   "cell_type": "markdown",
   "id": "add52c03",
   "metadata": {},
   "source": [
    "enumerate()함수를 이용한 for문 "
   ]
  },
  {
   "cell_type": "code",
   "execution_count": 10,
   "id": "f706d84e",
   "metadata": {},
   "outputs": [
    {
     "name": "stdout",
     "output_type": "stream",
     "text": [
      "item = (0, 'a')\n",
      "item = (1, 'b')\n",
      "item = (2, 'c')\n",
      "item = (3, 'd')\n",
      "item = (4, 'e')\n"
     ]
    }
   ],
   "source": [
    "#enumerate()를 이용하여 인덱스와 리스트의 튜플을 생성\n",
    "for item in enumerate(['a','b','c','d','e']):\n",
    "    print(f'{item = }')"
   ]
  },
  {
   "cell_type": "code",
   "execution_count": 11,
   "id": "e820ea0c",
   "metadata": {},
   "outputs": [
    {
     "name": "stdout",
     "output_type": "stream",
     "text": [
      "i = 0, item = 'a'\n",
      "i = 1, item = 'b'\n",
      "i = 2, item = 'c'\n",
      "i = 3, item = 'd'\n",
      "i = 4, item = 'e'\n"
     ]
    }
   ],
   "source": [
    "#enumerate()를 이용하여 인덱스와 리스트의 튜플을 i, item에 할당\n",
    "for i, item in enumerate(['a','b','c','d','e']):\n",
    "    print(f'{i = }, {item = }')"
   ]
  },
  {
   "cell_type": "markdown",
   "id": "54e1c5f2",
   "metadata": {},
   "source": [
    "zip()함수를 이용한 for문 "
   ]
  },
  {
   "cell_type": "code",
   "execution_count": 12,
   "id": "63817188",
   "metadata": {},
   "outputs": [
    {
     "data": {
      "text/plain": [
       "<zip at 0x204083a79c0>"
      ]
     },
     "execution_count": 12,
     "metadata": {},
     "output_type": "execute_result"
    }
   ],
   "source": [
    "x_list = [1, 2, 3, 4, 5]\n",
    "y_tuple = ('a', 'b', 'c', 'd', 'e')\n",
    "z_str = 'ABCDE'\n",
    "\n",
    "#zip 함수는 literable한 객체를 받아서, 같은 index끼리 묶어서 zip 객체를 반환\n",
    "zip(x_list, y_tuple, z_str)"
   ]
  },
  {
   "cell_type": "code",
   "execution_count": 13,
   "id": "d2a7c616",
   "metadata": {},
   "outputs": [
    {
     "data": {
      "text/plain": [
       "[(1, 'a', 'A'), (2, 'b', 'B'), (3, 'c', 'C'), (4, 'd', 'D'), (5, 'e', 'E')]"
      ]
     },
     "execution_count": 13,
     "metadata": {},
     "output_type": "execute_result"
    }
   ],
   "source": [
    "#zip 객체를 list로 변환하여 zip() 동작 확인\n",
    "list(zip(x_list, y_tuple, z_str))"
   ]
  },
  {
   "cell_type": "code",
   "execution_count": 14,
   "id": "c9233203",
   "metadata": {},
   "outputs": [
    {
     "data": {
      "text/plain": [
       "[(1, 'a', 'A'), (2, 'b', 'B'), (3, 'c', 'C'), (4, 'd', 'D'), (5, 'e', 'E')]"
      ]
     },
     "execution_count": 14,
     "metadata": {},
     "output_type": "execute_result"
    }
   ],
   "source": [
    "#zip 객체를 list로 변환하여 zip() 동작 확인\n",
    "list(zip(x_list, y_tuple, z_str))"
   ]
  },
  {
   "cell_type": "code",
   "execution_count": 15,
   "id": "841d8d46",
   "metadata": {},
   "outputs": [
    {
     "name": "stdout",
     "output_type": "stream",
     "text": [
      "x = 1, y = 'a', z = 'A'\n",
      "x = 2, y = 'b', z = 'B'\n",
      "x = 3, y = 'c', z = 'C'\n",
      "x = 4, y = 'd', z = 'D'\n",
      "x = 5, y = 'e', z = 'E'\n"
     ]
    }
   ],
   "source": [
    "#zip 객체를 for문으로 반복하여 출력\n",
    "for x, y, z in zip(x_list, y_tuple, z_str):\n",
    "    print(f'{x = }, {y = }, {z = }')"
   ]
  },
  {
   "cell_type": "code",
   "execution_count": 16,
   "id": "d6ddd998",
   "metadata": {},
   "outputs": [
    {
     "name": "stdout",
     "output_type": "stream",
     "text": [
      "i = 0, x = 1, y = 'a', z = 'A'\n",
      "i = 1, x = 2, y = 'b', z = 'B'\n",
      "i = 2, x = 3, y = 'c', z = 'C'\n",
      "i = 3, x = 4, y = 'd', z = 'D'\n",
      "i = 4, x = 5, y = 'e', z = 'E'\n"
     ]
    }
   ],
   "source": [
    "#enumerate와 zip을 함께 사용\n",
    "for i, (x,y,z) in enumerate(zip(x_list, y_tuple, z_str)):\n",
    "    print(f'{i = }, {x = }, {y = }, {z = }')"
   ]
  },
  {
   "cell_type": "markdown",
   "id": "0fa44a26",
   "metadata": {},
   "source": [
    "break, continue, pass, exit로 제어문 통제하기 "
   ]
  },
  {
   "cell_type": "code",
   "execution_count": 17,
   "id": "d99beed2",
   "metadata": {},
   "outputs": [
    {
     "name": "stdout",
     "output_type": "stream",
     "text": [
      "i = 0, item = 'a'\n",
      "i = 1, item = 'b'\n"
     ]
    }
   ],
   "source": [
    "for i, item in enumerate(['a','b','c','d','e']):\n",
    "    #i가 2이면\n",
    "    if i == 2:\n",
    "        #for문을 빠져나옴\n",
    "        break\n",
    "\n",
    "    #break 이후로는 이코드는 실행되지 않음\n",
    "    print(f'{i = }, {item = }')"
   ]
  },
  {
   "cell_type": "code",
   "execution_count": 18,
   "id": "fc57f0e1",
   "metadata": {},
   "outputs": [
    {
     "name": "stdout",
     "output_type": "stream",
     "text": [
      "i = 0, item = 'a'\n",
      "i = 1, item = 'b'\n",
      "i = 3, item = 'd'\n",
      "i = 4, item = 'e'\n"
     ]
    }
   ],
   "source": [
    "for i, item in enumerate(['a','b','c','d','e']):\n",
    "    if i == 2 :\n",
    "        #for문의 다음 반복으로 이동\n",
    "        continue\n",
    "\n",
    "    #continue가 실행될 때만 이 코드는 실행되지 않음\n",
    "    print(f'{i = }, {item = }')"
   ]
  },
  {
   "cell_type": "code",
   "execution_count": 19,
   "id": "50bf89bc",
   "metadata": {},
   "outputs": [
    {
     "name": "stdout",
     "output_type": "stream",
     "text": [
      "i = 0, item = 'a'\n",
      "i = 1, item = 'b'\n",
      "i = 2, item = 'c'\n",
      "i = 3, item = 'd'\n",
      "i = 4, item = 'e'\n"
     ]
    }
   ],
   "source": [
    "for i, item in enumerate(['a','b','c','d','e']):\n",
    "    if i == 2:\n",
    "        #아무것도 하지 않음\n",
    "        pass\n",
    "\n",
    "    #pass문이 실행되어도 이 코드는 실행됨\n",
    "    print(f'{i = }, {item = }')"
   ]
  },
  {
   "cell_type": "code",
   "execution_count": 20,
   "id": "a984b063",
   "metadata": {},
   "outputs": [
    {
     "name": "stdout",
     "output_type": "stream",
     "text": [
      "i = 0, item = 'a'\n",
      "i = 1, item = 'b'\n",
      "여기에서 실제로는 종료됨. 편의를 위해 주석처리\n",
      "i = 2, item = 'c'\n",
      "i = 3, item = 'd'\n",
      "i = 4, item = 'e'\n"
     ]
    }
   ],
   "source": [
    "for i, item in enumerate(['a','b','c','d','e']):\n",
    "    if i == 2:\n",
    "        #프로그램을 종료. 0은 정상종료를 의미\n",
    "        #exit(0)\n",
    "        print('여기에서 실제로는 종료됨. 편의를 위해 주석처리')\n",
    "    print(f'{i = }, {item = }')"
   ]
  },
  {
   "cell_type": "markdown",
   "id": "09507413",
   "metadata": {},
   "source": [
    "중첩 제어문 "
   ]
  },
  {
   "cell_type": "code",
   "execution_count": 21,
   "id": "04a27f67",
   "metadata": {},
   "outputs": [
    {
     "name": "stdout",
     "output_type": "stream",
     "text": [
      "1x1= 1\t2x1= 2\t3x1= 3\t4x1= 4\t5x1= 5\t6x1= 6\t7x1= 7\t8x1= 8\t9x1= 9\t\n",
      "1x2= 2\t2x2= 4\t3x2= 6\t4x2= 8\t5x2=10\t6x2=12\t7x2=14\t8x2=16\t9x2=18\t\n",
      "1x3= 3\t2x3= 6\t3x3= 9\t4x3=12\t5x3=15\t6x3=18\t7x3=21\t8x3=24\t9x3=27\t\n",
      "1x4= 4\t2x4= 8\t3x4=12\t4x4=16\t5x4=20\t6x4=24\t7x4=28\t8x4=32\t9x4=36\t\n",
      "1x5= 5\t2x5=10\t3x5=15\t4x5=20\t5x5=25\t6x5=30\t7x5=35\t8x5=40\t9x5=45\t\n",
      "1x6= 6\t2x6=12\t3x6=18\t4x6=24\t5x6=30\t6x6=36\t7x6=42\t8x6=48\t9x6=54\t\n",
      "1x7= 7\t2x7=14\t3x7=21\t4x7=28\t5x7=35\t6x7=42\t7x7=49\t8x7=56\t9x7=63\t\n",
      "1x8= 8\t2x8=16\t3x8=24\t4x8=32\t5x8=40\t6x8=48\t7x8=56\t8x8=64\t9x8=72\t\n",
      "1x9= 9\t2x9=18\t3x9=27\t4x9=36\t5x9=45\t6x9=54\t7x9=63\t8x9=72\t9x9=81\t\n"
     ]
    }
   ],
   "source": [
    "#i는 1부터 9까지 반복\n",
    "for i in range(1,10):\n",
    "    #j는 1부터 9까지 반복\n",
    "    for j in range(1, 10):\n",
    "        #end='\\t'는 출력 후 탭을 적용하고 줄바꿈은 하지 않음\n",
    "        print(f'{j}x{i}={j*i:>2d}', end='\\t')\n",
    "        if j == 9:\n",
    "            #한 줄 띄움\n",
    "            print()"
   ]
  }
 ],
 "metadata": {
  "kernelspec": {
   "display_name": "Python 3",
   "language": "python",
   "name": "python3"
  },
  "language_info": {
   "codemirror_mode": {
    "name": "ipython",
    "version": 3
   },
   "file_extension": ".py",
   "mimetype": "text/x-python",
   "name": "python",
   "nbconvert_exporter": "python",
   "pygments_lexer": "ipython3",
   "version": "3.13.2"
  }
 },
 "nbformat": 4,
 "nbformat_minor": 5
}
