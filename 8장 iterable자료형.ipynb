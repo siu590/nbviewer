{
 "cells": [
  {
   "cell_type": "markdown",
   "id": "97dce334",
   "metadata": {},
   "source": [
    "C521014 김시우 "
   ]
  },
  {
   "cell_type": "markdown",
   "id": "8323302f",
   "metadata": {},
   "source": [
    "인덱싱 "
   ]
  },
  {
   "cell_type": "code",
   "execution_count": 1,
   "id": "00d834a9",
   "metadata": {},
   "outputs": [
    {
     "name": "stdout",
     "output_type": "stream",
     "text": [
      "0\n",
      "1\n",
      "2\n",
      "3\n",
      "4\n"
     ]
    }
   ],
   "source": [
    "x_list = [0,1,2,3,4]\n",
    "\n",
    "#각 요소를 인덱싱\n",
    "print(x_list[0])\n",
    "print(x_list[1])\n",
    "print(x_list[2])\n",
    "print(x_list[3])\n",
    "print(x_list[4])"
   ]
  },
  {
   "cell_type": "code",
   "execution_count": 2,
   "id": "c92f598a",
   "metadata": {},
   "outputs": [
    {
     "name": "stdout",
     "output_type": "stream",
     "text": [
      "4\n",
      "3\n",
      "2\n",
      "1\n",
      "0\n"
     ]
    }
   ],
   "source": [
    "x_list = [0,1,2,3,4]\n",
    "\n",
    "#각 요소를 -인덱싱\n",
    "print(x_list[-1])\n",
    "print(x_list[-2])\n",
    "print(x_list[-3])\n",
    "print(x_list[-4])\n",
    "print(x_list[-5])"
   ]
  },
  {
   "cell_type": "code",
   "execution_count": 3,
   "id": "8e2e9b09",
   "metadata": {},
   "outputs": [
    {
     "name": "stdout",
     "output_type": "stream",
     "text": [
      "list index out of range\n"
     ]
    }
   ],
   "source": [
    "#인덱스 범위를 벗어난 요소에 접근하면 에러가 발생\n",
    "try :\n",
    "    print(x_list[5])\n",
    "except IndexError as e :\n",
    "    print(e)"
   ]
  },
  {
   "cell_type": "code",
   "execution_count": 4,
   "id": "a8861ed3",
   "metadata": {},
   "outputs": [
    {
     "name": "stdout",
     "output_type": "stream",
     "text": [
      "x_list = [1, 2, 3, 4, 5] \t-> x_list[0] = 1\n",
      "x_tuple = (1, 2, 3, 4, 5) \t-> x_list[-1] = 5\n"
     ]
    }
   ],
   "source": [
    "x_list = [1,2,3,4,5] #list\n",
    "x_tuple = (1,2,3,4,5) #tuple\n",
    "\n",
    "#x_list의 0번째 원소 출력\n",
    "print(f'{x_list = } \\t-> {x_list[0] = }')\n",
    "\n",
    "#x_tuple의 마지막 원소 출력, -1은 마지막 원소의 인덱스 \n",
    "print(f'{x_tuple = } \\t-> {x_list[-1] = }')"
   ]
  },
  {
   "cell_type": "code",
   "execution_count": 5,
   "id": "8a0b4766",
   "metadata": {},
   "outputs": [
    {
     "name": "stdout",
     "output_type": "stream",
     "text": [
      "x_dict = {'name': ['김홍익', '이파이'], 'id': [12345, 67890]} \t-> x_dict[\"name\"][0] = '김홍익'\n"
     ]
    }
   ],
   "source": [
    "#key와 value로 이루어진 dictionary\n",
    "x_dict = {'name': ['김홍익', '이파이'], 'id':[12345, 67890]}\n",
    "\n",
    "#key를 이용하여 value에 접근\n",
    "print(f'{x_dict = } \\t-> {x_dict[\"name\"][0] = }')"
   ]
  },
  {
   "cell_type": "code",
   "execution_count": 6,
   "id": "fb275961",
   "metadata": {},
   "outputs": [
    {
     "name": "stdout",
     "output_type": "stream",
     "text": [
      "x_str = 'Hello World!' \t\t-> x_str[0] = 'H'\n",
      "x_str = 'Hello World!' \t\t-> x_str[3] = 'l'\n"
     ]
    }
   ],
   "source": [
    "x_str = 'Hello World!'\n",
    "\n",
    "#x_str의 0번째 원소 출력\n",
    "print(f'{x_str = } \\t\\t-> {x_str[0] = }')\n",
    "\n",
    "#x_str의 3번째 원소 출력\n",
    "print(f'{x_str = } \\t\\t-> {x_str[3] = }')"
   ]
  },
  {
   "cell_type": "code",
   "execution_count": 7,
   "id": "9f01684a",
   "metadata": {},
   "outputs": [
    {
     "name": "stdout",
     "output_type": "stream",
     "text": [
      "[1, 2]\n",
      "[1, 2, 3, 4]\n",
      "[0, 1, 2]\n",
      "[0, 1, 2, 3, 4]\n"
     ]
    }
   ],
   "source": [
    "x_list = [0,1,2,3,4]\n",
    "\n",
    "#데이터의 일부를 슬라이싱\n",
    "print(x_list[1:3]) #인덱스 1부터 3전까지\n",
    "print(x_list[1:]) #인덱스 1부터 끝까지\n",
    "print(x_list[:3]) #인덱스 처음부터 3전까지\n",
    "print(x_list[:]) #인덱스 처음부터 끝까지"
   ]
  },
  {
   "cell_type": "code",
   "execution_count": 8,
   "id": "51c52284",
   "metadata": {},
   "outputs": [
    {
     "name": "stdout",
     "output_type": "stream",
     "text": [
      "[1, 2, 3, 4]\n"
     ]
    }
   ],
   "source": [
    "#슬라이싱은 인덱스 범위를 벗어난 요소에 접근해도 에러가 발생하지 않음\n",
    "try :\n",
    "    print(x_list[1:10])\n",
    "except IndexError as e :\n",
    "    print(e)"
   ]
  },
  {
   "cell_type": "code",
   "execution_count": 9,
   "id": "fb9b706a",
   "metadata": {},
   "outputs": [
    {
     "name": "stdout",
     "output_type": "stream",
     "text": [
      "x_list = [1, 2, 3, 4, 5] \t-> x_list[0:3] = [1, 2, 3]\n",
      "x_tuple = (1, 2, 3, 4, 5) \t-> x_tuple[-1:-4:-1] = (5, 4, 3)\n"
     ]
    }
   ],
   "source": [
    "x_list = [1,2,3,4,5] #list\n",
    "x_tuple = (1,2,3,4,5) #tuple\n",
    "\n",
    "#x_list의 0번째부터 3번째 전까지 원소 출력\n",
    "print(f'{x_list = } \\t-> {x_list[0:3] = }')\n",
    "\n",
    "#x_tuple의 뒤에서 1번째부터 4번째 전까지 원소 출력\n",
    "print(f'{x_tuple = } \\t-> {x_tuple[-1:-4:-1] = }')"
   ]
  },
  {
   "cell_type": "code",
   "execution_count": 10,
   "id": "9ebf1b16",
   "metadata": {},
   "outputs": [
    {
     "name": "stdout",
     "output_type": "stream",
     "text": [
      "x_dict = {'name': ['김홍익', '이파이'], 'id': [12345, 67890]} \t-> x_dict[\"name\"][0:1] = ['김홍익']\n"
     ]
    }
   ],
   "source": [
    "#key와 value로 이루어진 dictionary\n",
    "x_dict = {'name': ['김홍익', '이파이'], 'id':[12345,67890]}\n",
    "\n",
    "#key를 이용하여 value에 접근\n",
    "print(f'{x_dict = } \\t-> {x_dict[\"name\"][0:1] = }')"
   ]
  },
  {
   "cell_type": "code",
   "execution_count": 13,
   "id": "bad0997a",
   "metadata": {},
   "outputs": [
    {
     "name": "stdout",
     "output_type": "stream",
     "text": [
      "x_str = 'Hello World!' \t\t--> x_str[0:3] = 'Hel'\n",
      "x_str = 'Hello World!' \t\t--> x_str[-2:-10:-2] = 'drWo'\n"
     ]
    }
   ],
   "source": [
    "x_str = 'Hello World!'\n",
    "\n",
    "#x_str의 0번째 원소에서 3번째 전의 원소까지 출력\n",
    "print(f'{x_str = } \\t\\t--> {x_str[0:3] = }')\n",
    "\n",
    "#x_str의 뒤에서 2번째 원소에서 10번째 전의 원소까지 2칸씩 뛰며 출력\n",
    "print(f'{x_str = } \\t\\t--> {x_str[-2:-10:-2] = }')"
   ]
  },
  {
   "cell_type": "markdown",
   "id": "54e61cec",
   "metadata": {},
   "source": [
    "immutable 객체의 assignment 예시 "
   ]
  },
  {
   "cell_type": "code",
   "execution_count": 3,
   "id": "dd8d4fc2",
   "metadata": {},
   "outputs": [
    {
     "name": "stdout",
     "output_type": "stream",
     "text": [
      "x = (1, 2, 3) \t--> id(x) = 2239420809088\n",
      "y = (1, 2, 3) \t--> id(y) = 2239420809088\n"
     ]
    }
   ],
   "source": [
    "x = (1,2,3)\n",
    "\n",
    "#y에 x를 assign\n",
    "y = x\n",
    "\n",
    "#x와 y의 id(메모리 주소)가 같음\n",
    "print(f'{x = } \\t--> {id(x) = }')\n",
    "print(f'{y = } \\t--> {id(y) = }')"
   ]
  },
  {
   "cell_type": "code",
   "execution_count": 4,
   "id": "6634ae04",
   "metadata": {},
   "outputs": [
    {
     "name": "stdout",
     "output_type": "stream",
     "text": [
      "x = (1, 2, 3) \t=> id(x) = 2239420809088\n",
      "y = (1, 20, 3) \t=> id(y) = 2239420709504\n"
     ]
    }
   ],
   "source": [
    "#y의 값을 변경 <-immutable은 원소 변경이 불가능\n",
    "y=(1,20,3)\n",
    "\n",
    "#y의 값을 변경하면 새로운 메모리 주소에 할당됨\n",
    "print(f'{x = } \\t=> {id(x) = }')\n",
    "print(f'{y = } \\t=> {id(y) = }')"
   ]
  },
  {
   "cell_type": "markdown",
   "id": "7389a079",
   "metadata": {},
   "source": [
    "mutable 객체의 얕은 복사 예시 "
   ]
  },
  {
   "cell_type": "code",
   "execution_count": 5,
   "id": "1084c44b",
   "metadata": {},
   "outputs": [
    {
     "name": "stdout",
     "output_type": "stream",
     "text": [
      "x = [1, 2, 3] \t=> id(x) = 2239420568768\n",
      "y = [1, 2, 3] \t=> id(y) = 2239420568768\n"
     ]
    }
   ],
   "source": [
    "x = [1,2,3]\n",
    "\n",
    "#y에 x를 복사\n",
    "y = x\n",
    "\n",
    "#x와 y의 id(메모리 주소)가 같음\n",
    "print(f'{x = } \\t=> {id(x) = }')\n",
    "print(f'{y = } \\t=> {id(y) = }')"
   ]
  },
  {
   "cell_type": "code",
   "execution_count": 6,
   "id": "de135bdb",
   "metadata": {},
   "outputs": [
    {
     "name": "stdout",
     "output_type": "stream",
     "text": [
      "x = [1, 20, 3] \t=> id(x) = 2239420568768\n",
      "y = [1, 20, 3] \t=> id(y) = 2239420568768\n"
     ]
    }
   ],
   "source": [
    "#y의 값을 변경\n",
    "y[1]= 20\n",
    "\n",
    "#y의 값을 변경하면 x의 값도 같이 변경됨\n",
    "print(f'{x = } \\t=> {id(x) = }')\n",
    "print(f'{y = } \\t=> {id(y) = }')"
   ]
  },
  {
   "cell_type": "markdown",
   "id": "d2263613",
   "metadata": {},
   "source": [
    "mutable 객체의 깊은 복사 예시 "
   ]
  },
  {
   "cell_type": "code",
   "execution_count": 7,
   "id": "61f876c0",
   "metadata": {},
   "outputs": [
    {
     "name": "stdout",
     "output_type": "stream",
     "text": [
      "x = [1, 2, 3] \t=> id(x) = 2239421073344\n",
      "y = [1, 2, 3] \t=> id(y) = 2239421084608\n"
     ]
    }
   ],
   "source": [
    "x = [1,2,3]\n",
    "\n",
    "#y에 x를 복사\n",
    "y = x.copy()\n",
    "\n",
    "#x와 y의 id(메모리 주소)가 다름\n",
    "print(f'{x = } \\t=> {id(x) = }')\n",
    "print(f'{y = } \\t=> {id(y) = }')"
   ]
  },
  {
   "cell_type": "code",
   "execution_count": 8,
   "id": "84793787",
   "metadata": {},
   "outputs": [
    {
     "name": "stdout",
     "output_type": "stream",
     "text": [
      "x = [1, 2, 3] \t=> id(x) = 2239421073344\n",
      "y = [1, 20, 3] \t=> id(y) = 2239421084608\n"
     ]
    }
   ],
   "source": [
    "#y의 값을 변경\n",
    "y[1] = 20\n",
    "\n",
    "#y의 값을 변경하여도 x의 값은 변경되지 않음\n",
    "print(f'{x = } \\t=> {id(x) = }')\n",
    "print(f'{y = } \\t=> {id(y) = }')"
   ]
  },
  {
   "cell_type": "markdown",
   "id": "83fce1fe",
   "metadata": {},
   "source": [
    "리스트와 튜플 기본 사용법 "
   ]
  },
  {
   "cell_type": "code",
   "execution_count": 9,
   "id": "3b830f3c",
   "metadata": {},
   "outputs": [
    {
     "name": "stdout",
     "output_type": "stream",
     "text": [
      "x_list는 <class 'list'>이고, x_tuple은 <class 'tuple'>이다.\n"
     ]
    }
   ],
   "source": [
    "x_list = [1,2,3,4,5]\n",
    "x_tuple = (1,2,3,4,5)\n",
    "\n",
    "print(f'x_list는 {type(x_list)}이고, x_tuple은 {type(x_tuple)}이다.')"
   ]
  },
  {
   "cell_type": "code",
   "execution_count": 10,
   "id": "0fbbdcac",
   "metadata": {},
   "outputs": [
    {
     "name": "stdout",
     "output_type": "stream",
     "text": [
      "Befor: x_list =[1, 2, 3, 4, 5]\n",
      "After : x_list = [1, '2', 3, 5]\n"
     ]
    }
   ],
   "source": [
    "#원소 변경전 x_list의 값을 출력\n",
    "print(f'Befor: {x_list =}')\n",
    "\n",
    "try :\n",
    "    #인덱스 1 원소를 '2'로 변경\n",
    "    x_list[1] = '2'\n",
    "    #인덱스 3 원소를 삭제\n",
    "    del x_list[3]\n",
    "except TypeError as e:\n",
    "    print(f'Error : {e}')\n",
    "\n",
    "#원소 변경후 x_str의 값을 출력 -> 처리됨\n",
    "print(f'After : {x_list = }')"
   ]
  },
  {
   "cell_type": "code",
   "execution_count": 11,
   "id": "6bb1d66d",
   "metadata": {},
   "outputs": [
    {
     "name": "stdout",
     "output_type": "stream",
     "text": [
      "Before: x_tuple = (1, 2, 3, 4, 5)\n",
      "Error : 'tuple' object does not support item assignment\n",
      "Error : 'tuple' object doesn't support item deletion\n",
      "After : x_tuple = (1, 2, 3, 4, 5)\n"
     ]
    }
   ],
   "source": [
    "#원소 변경전 x_tuple의 값을 출력\n",
    "print(f'Before: {x_tuple = }')\n",
    "\n",
    "try :\n",
    "    #인덱스 1 원소를 '2'로 변경\n",
    "    x_tuple[1] = '2'\n",
    "except TypeError as e :\n",
    "    print(f'Error : {e}')\n",
    "\n",
    "try :\n",
    "    #인덱스 3 원소를 삭제\n",
    "    del x_tuple[3]\n",
    "except TypeError as e :\n",
    "    print(f'Error : {e}')\n",
    "\n",
    "#원소 변경후 x_tuple의 값을 출력 -> 에러 발생으로 인해 처리 되지 않음\n",
    "print(f'After : {x_tuple = }')"
   ]
  },
  {
   "cell_type": "markdown",
   "id": "7dadd577",
   "metadata": {},
   "source": [
    "내장함수를 이용한 리스트와 튜플 다루기 "
   ]
  },
  {
   "cell_type": "code",
   "execution_count": 12,
   "id": "9b99d9df",
   "metadata": {},
   "outputs": [
    {
     "name": "stdout",
     "output_type": "stream",
     "text": [
      "len(x_list) = 5\n",
      "sum(x_list) = 10\n",
      "min(x_list) = 0\n",
      "max(x_list) = 4\n",
      "sorted(x_list) = [0, 1, 2, 3, 4]\n",
      "sorted(x_list, reverse=True) =[4, 3, 2, 1, 0]\n",
      "all(x_list) = False\n",
      "any(x_list) = True\n"
     ]
    }
   ],
   "source": [
    "x_list = [0, 1, 2, 3, 4]\n",
    "\n",
    "#x_list의 길이(원소의 개수) 출력\n",
    "print(f'{len(x_list) = }')\n",
    "\n",
    "#x_list의 원소들의 합 출력\n",
    "print(f'{sum(x_list) = }')\n",
    "\n",
    "#x_list의 원소들 중 최솟값 출력\n",
    "print(f'{min(x_list) = }')\n",
    "\n",
    "#x_list의 원소들 중 최댓값 출력\n",
    "print(f'{max(x_list) = }')\n",
    "\n",
    "#x_list의 원소들을 오름차순으로 정렬하여 출력\n",
    "print(f'{sorted(x_list) = }')\n",
    "\n",
    "#x_list의 원소들을 내림차순으로 정렬하여 출력\n",
    "print(f'{sorted(x_list, reverse=True) =}')\n",
    "\n",
    "#x_list의 모든 원소가 참이면(0이 아니면) True, 아니면 False 출력\n",
    "print(f'{all(x_list) = }')\n",
    "\n",
    "#x_list의 원소 중 하나라도 참이면(0이 아니면) True, 아니면 False 출력\n",
    "print(f'{any(x_list) = }')"
   ]
  },
  {
   "cell_type": "markdown",
   "id": "e6f5bcda",
   "metadata": {},
   "source": [
    "객체 메서드를 이용한 리스트와 튜플 다루기 "
   ]
  },
  {
   "cell_type": "code",
   "execution_count": 13,
   "id": "9e86718c",
   "metadata": {},
   "outputs": [
    {
     "name": "stdout",
     "output_type": "stream",
     "text": [
      "['__add__', '__class__', '__class_getitem__', '__contains__', '__delattr__', '__delitem__', '__dir__', '__doc__', '__eq__', '__format__', '__ge__', '__getattribute__', '__getitem__', '__getstate__', '__gt__', '__hash__', '__iadd__', '__imul__', '__init__', '__init_subclass__', '__iter__', '__le__', '__len__', '__lt__', '__mul__', '__ne__', '__new__', '__reduce__', '__reduce_ex__', '__repr__', '__reversed__', '__rmul__', '__setattr__', '__setitem__', '__sizeof__', '__str__', '__subclasshook__', 'append', 'clear', 'copy', 'count', 'extend', 'index', 'insert', 'pop', 'remove', 'reverse', 'sort']\n",
      "================================================================================\n",
      "['__add__', '__class__', '__class_getitem__', '__contains__', '__delattr__', '__dir__', '__doc__', '__eq__', '__format__', '__ge__', '__getattribute__', '__getitem__', '__getnewargs__', '__getstate__', '__gt__', '__hash__', '__init__', '__init_subclass__', '__iter__', '__le__', '__len__', '__lt__', '__mul__', '__ne__', '__new__', '__reduce__', '__reduce_ex__', '__repr__', '__rmul__', '__setattr__', '__sizeof__', '__str__', '__subclasshook__', 'count', 'index']\n"
     ]
    }
   ],
   "source": [
    "#x_list의 메소드를 확인\n",
    "print(dir(x_list), end='\\n'+'='*80+'\\n')\n",
    "\n",
    "#x_tuple의 메소드를 확인 -> x_list보다 적은 메소드를 가지고 있음\n",
    "print(dir(x_tuple))"
   ]
  },
  {
   "cell_type": "code",
   "execution_count": 14,
   "id": "1c83c9d7",
   "metadata": {},
   "outputs": [
    {
     "name": "stdout",
     "output_type": "stream",
     "text": [
      "x_list = [1, 2, 3, 4, 5, 2, 3, 2]\n",
      "x_list.count(2) = 3\n",
      "x_list.index(2) = 1\n"
     ]
    }
   ],
   "source": [
    "x_list = [1, 2, 3, 4, 5, 2, 3, 2]\n",
    "print(f'{x_list = }')\n",
    "\n",
    "#x_list에서 2의 개수를 출력\n",
    "print(f'{x_list.count(2) = }')\n",
    "\n",
    "#x_list에서 2의 첫번째 인덱스를 출력\n",
    "print(f'{x_list.index(2) = }')"
   ]
  },
  {
   "cell_type": "code",
   "execution_count": 16,
   "id": "6aafd1e2",
   "metadata": {},
   "outputs": [
    {
     "name": "stdout",
     "output_type": "stream",
     "text": [
      "y_list = [1, 2, 3, 4, 5, 2, 3, 2]\n",
      "x_list is y_list = False\n",
      "id(x_list) = 2239421035008, id(y_list) = 2239424239424\n"
     ]
    }
   ],
   "source": [
    "#x_list를 복사하여 y_list에 할당\n",
    "y_list = x_list.copy()\n",
    "\n",
    "#y_list의 값을 출력\n",
    "print(f'{y_list = }')\n",
    "\n",
    "#x_list와 y_list가 같은 객체(주소)인지 확인\n",
    "print(f'{x_list is y_list = }')\n",
    "\n",
    "#x_list의 주소를 출력\n",
    "print(f'{id(x_list) = }, {id(y_list) = }')"
   ]
  },
  {
   "cell_type": "code",
   "execution_count": 17,
   "id": "531c2d6b",
   "metadata": {},
   "outputs": [
    {
     "name": "stdout",
     "output_type": "stream",
     "text": [
      "x_list = [2, 3, 2, 5, 4, 3, 2, 1]\n"
     ]
    }
   ],
   "source": [
    "#x_list를 역순으로 변경\n",
    "x_list.reverse()\n",
    "print(f'{x_list = }')"
   ]
  },
  {
   "cell_type": "code",
   "execution_count": 18,
   "id": "5fa37b2a",
   "metadata": {},
   "outputs": [
    {
     "name": "stdout",
     "output_type": "stream",
     "text": [
      "x_list = [1, 2, 2, 2, 3, 3, 4, 5]\n"
     ]
    }
   ],
   "source": [
    "#x_list를 오름차순으로 정렬\n",
    "x_list.sort()\n",
    "print(f'{x_list = }')"
   ]
  },
  {
   "cell_type": "code",
   "execution_count": 19,
   "id": "b9e68a0a",
   "metadata": {},
   "outputs": [
    {
     "name": "stdout",
     "output_type": "stream",
     "text": [
      "x_list = [1, 2, 2, 2, 3, 3, 4, 5, 6]\n"
     ]
    }
   ],
   "source": [
    "#x_list의 append 메소드를 이용하여 6을 추가\n",
    "x_list.append(6)\n",
    "print(f'{x_list = }')"
   ]
  },
  {
   "cell_type": "code",
   "execution_count": 20,
   "id": "c63da556",
   "metadata": {},
   "outputs": [
    {
     "name": "stdout",
     "output_type": "stream",
     "text": [
      "x_list = [1, 2, 2, 2, 3, 3, 4, 5, 6, 7, 8, 9]\n"
     ]
    }
   ],
   "source": [
    "#x_list의 extend 메소드를 이용하여 [7, 8, 9]를 연결\n",
    "x_list.extend([7, 8, 9])\n",
    "print(f'{x_list = }')"
   ]
  },
  {
   "cell_type": "code",
   "execution_count": 21,
   "id": "d5522bf8",
   "metadata": {},
   "outputs": [
    {
     "name": "stdout",
     "output_type": "stream",
     "text": [
      "x_list = [1, 2, 2, 2, 3, 3, 4, 5, 6, 7, 8, 9, [10, 11, 12]]\n"
     ]
    }
   ],
   "source": [
    "#x_list의 append 메소드를 이용하여 [10, 11, 12]를 추가\n",
    "x_list.append([10, 11, 12])\n",
    "print(f'{x_list = }')"
   ]
  },
  {
   "cell_type": "code",
   "execution_count": 22,
   "id": "bbe78c74",
   "metadata": {},
   "outputs": [
    {
     "name": "stdout",
     "output_type": "stream",
     "text": [
      "x_list = [1, 2, 2, 3.5, 2, 3, 3, 4, 5, 6, 7, 8, 9, [10, 11, 12]]\n"
     ]
    }
   ],
   "source": [
    "#x_list의 insert 메소드를 이용하여 3에 3.5를 추가\n",
    "x_list.insert(3, 3.5)\n",
    "print(f'{x_list = }')"
   ]
  },
  {
   "cell_type": "code",
   "execution_count": 23,
   "id": "61bc3326",
   "metadata": {},
   "outputs": [
    {
     "name": "stdout",
     "output_type": "stream",
     "text": [
      "x_list = [1, 2, 2, 2, 3, 3, 4, 5, 6, 7, 8, 9, [10, 11, 12]]\n"
     ]
    }
   ],
   "source": [
    "#x_list의 remove 메소드를 이용하여 3.5를 찾아서 삭제\n",
    "x_list.remove(3.5)\n",
    "print(f'{x_list = }')"
   ]
  },
  {
   "cell_type": "code",
   "execution_count": 25,
   "id": "9b0ea127",
   "metadata": {},
   "outputs": [
    {
     "name": "stdout",
     "output_type": "stream",
     "text": [
      "x_list = [1, 2, 2, 2, 3, 3, 4, 5, 6, 7, 8]\n",
      "x_list = [1, 2, 2, 2, 3, 3, 4, 6, 7, 8]\n"
     ]
    }
   ],
   "source": [
    "#x_list의 pop 메소드를 이용하여 마지막 원소를 삭제\n",
    "x_list.pop()\n",
    "print(f'{x_list = }')\n",
    "\n",
    "#x_list의 pop 메소드를 이용하여 인덱스 7의 원소를 삭제\n",
    "x_list.pop(7)\n",
    "print(f'{x_list = }')"
   ]
  },
  {
   "cell_type": "code",
   "execution_count": 26,
   "id": "0c9f96fe",
   "metadata": {},
   "outputs": [
    {
     "name": "stdout",
     "output_type": "stream",
     "text": [
      "x_list = [2, 2, 2, 3, 3, 4, 6, 7, 8], x_pop = 1\n"
     ]
    }
   ],
   "source": [
    "#x_list의 pop 메소드를 이용하여 인덱스 0의 원소를 삭제하고, 삭제한 값을 x_pop에 할당\n",
    "x_pop = x_list.pop(0)\n",
    "print(f'{x_list = }, {x_pop = }')"
   ]
  },
  {
   "cell_type": "code",
   "execution_count": 27,
   "id": "8d02b5ba",
   "metadata": {},
   "outputs": [
    {
     "name": "stdout",
     "output_type": "stream",
     "text": [
      "x_list = []\n"
     ]
    }
   ],
   "source": [
    "#x_list의 clear 메소드를 이용하여 모든 원소를 삭제\n",
    "x_list.clear()\n",
    "print(f'{x_list = }')"
   ]
  },
  {
   "cell_type": "code",
   "execution_count": 28,
   "id": "428513b6",
   "metadata": {},
   "outputs": [
    {
     "name": "stdout",
     "output_type": "stream",
     "text": [
      "Error : name 'x_list' is not defined\n"
     ]
    }
   ],
   "source": [
    "#x_list를 삭제\n",
    "del x_list\n",
    "\n",
    "try :\n",
    "    #x_list의 값을 출력\n",
    "    print(f'{x_list = }')\n",
    "except NameError as e :\n",
    "    print(f'Error : {e}')"
   ]
  },
  {
   "cell_type": "markdown",
   "id": "a7dc27f1",
   "metadata": {},
   "source": [
    "문자열 생성 "
   ]
  },
  {
   "cell_type": "code",
   "execution_count": 30,
   "id": "5af8baab",
   "metadata": {},
   "outputs": [
    {
     "name": "stdout",
     "output_type": "stream",
     "text": [
      "Hello python! My name is Python. I am a Python Developer.\n"
     ]
    }
   ],
   "source": [
    "string1 = \"Hello python! My name is Python. I am a Python Developer.\"\n",
    "print(string1)"
   ]
  },
  {
   "cell_type": "code",
   "execution_count": 31,
   "id": "11694db5",
   "metadata": {},
   "outputs": [
    {
     "name": "stdout",
     "output_type": "stream",
     "text": [
      "Hello Python! My name is Python. I am a Python Developer.\n"
     ]
    }
   ],
   "source": [
    "string2 = 'Hello Python! My name is Python. I am a Python Developer.'\n",
    "print(string2)"
   ]
  },
  {
   "cell_type": "code",
   "execution_count": 32,
   "id": "d227167c",
   "metadata": {},
   "outputs": [
    {
     "name": "stdout",
     "output_type": "stream",
     "text": [
      "Hello python!\n",
      "My name is Python.\n",
      "I am a Python Developer.\n",
      "\n"
     ]
    }
   ],
   "source": [
    "string3 = \"\"\"Hello python!\n",
    "My name is Python.\n",
    "I am a Python Developer.\n",
    "\"\"\"\n",
    "print(string3)"
   ]
  },
  {
   "cell_type": "code",
   "execution_count": 33,
   "id": "79761699",
   "metadata": {},
   "outputs": [
    {
     "name": "stdout",
     "output_type": "stream",
     "text": [
      "Hello Python!\n",
      "My name is Python.\n",
      "I am a Python Developer.\n",
      "\n"
     ]
    }
   ],
   "source": [
    "string4 = '''Hello Python!\n",
    "My name is Python.\n",
    "I am a Python Developer.\n",
    "'''\n",
    "print(string4)"
   ]
  },
  {
   "cell_type": "markdown",
   "id": "53cb551a",
   "metadata": {},
   "source": [
    "이스케이프 문자 "
   ]
  },
  {
   "cell_type": "code",
   "execution_count": 34,
   "id": "29c12298",
   "metadata": {},
   "outputs": [
    {
     "name": "stdout",
     "output_type": "stream",
     "text": [
      "Hello \tPython! \n",
      "My \tname \tis \tPython. \n",
      "I \tam \ta \tPython \tDeveloper.\n"
     ]
    }
   ],
   "source": [
    "string = 'Hello \\tPython! \\nMy \\tname \\tis \\tPython. \\nI \\tam \\ta \\tPython \\tDeveloper.'\n",
    "print(string)"
   ]
  },
  {
   "cell_type": "code",
   "execution_count": 35,
   "id": "3ccae2f9",
   "metadata": {},
   "outputs": [
    {
     "name": "stdout",
     "output_type": "stream",
     "text": [
      "Hello \t\\Python\\! \n",
      "My \tname \tis \t'Python'!. \n",
      "I \tam \ta \t\"Python\" \tDeveloper.\n"
     ]
    }
   ],
   "source": [
    "string = 'Hello \\t\\\\Python\\\\! \\nMy \\tname \\tis \\t\\'Python\\'!. \\nI \\tam \\ta \\t\\\"Python\\\" \\tDeveloper.'\n",
    "print(string)"
   ]
  },
  {
   "cell_type": "markdown",
   "id": "d191a96f",
   "metadata": {},
   "source": [
    "문자열의 종류 "
   ]
  },
  {
   "cell_type": "code",
   "execution_count": 36,
   "id": "66ab73b0",
   "metadata": {},
   "outputs": [
    {
     "name": "stdout",
     "output_type": "stream",
     "text": [
      "Hello \\t\\\\Python\\\\! \\nMy \\tname \\tis \\t\\'Python\\'!. \\nI \\tam \\ta \\t\\\"Python\\\" \\tDeveloper.\n"
     ]
    }
   ],
   "source": [
    "#r-string\n",
    "string_r = r'Hello \\t\\\\Python\\\\! \\nMy \\tname \\tis \\t\\'Python\\'!. \\nI \\tam \\ta \\t\\\"Python\\\" \\tDeveloper.'\n",
    "print(string_r)"
   ]
  },
  {
   "cell_type": "code",
   "execution_count": 37,
   "id": "dfa0e1eb",
   "metadata": {},
   "outputs": [
    {
     "name": "stdout",
     "output_type": "stream",
     "text": [
      "Hello Python! My name is Python. I am a Python Developer.\n"
     ]
    }
   ],
   "source": [
    "#f-string\n",
    "name = 'Python'\n",
    "string_f = f'Hello {name}! My name is {name}. I am a {name} Developer.'\n",
    "print(string_f)"
   ]
  },
  {
   "cell_type": "markdown",
   "id": "40e6f1e1",
   "metadata": {},
   "source": [
    "문자열의 인덱싱과 슬라이싱 "
   ]
  },
  {
   "cell_type": "code",
   "execution_count": 38,
   "id": "606be3c2",
   "metadata": {},
   "outputs": [
    {
     "name": "stdout",
     "output_type": "stream",
     "text": [
      "\n",
      "==== 인덱싱(포인트) ====\n",
      "string[0]='H'\n",
      "string[3]='l'\n",
      "string[-1]='.'\n",
      "string[-3]='e'\n",
      "\n",
      "==== 슬라이싱(구간) ====\n",
      "string[0:5]='Hello'\n",
      "string[6:12]='Python'\n",
      "string[:5]='Hello'\n",
      "string[6:]='Python! My name is Python. I am a Python Developer.'\n",
      "string[6:-1]='Python! My name is Python. I am a Python Developer'\n",
      "string[6:-3]='Python! My name is Python. I am a Python Develop'\n",
      "\n",
      "==== 스텝(간격) ====\n",
      "-인덱스 6부터 2칸씩 12까지\n",
      "string[6:12:2]='Pto'\n",
      "-처음부터 끝까지 2칸씩\n",
      "string[::2]='HloPto!M aei yhn  maPto eeoe.'\n",
      "-처음부터 끝까지 거꾸로 1칸씩\n",
      "string[::-1]='.repoleveD nohtyP a ma I .nohtyP si eman yM !nohtyP olleH'\n",
      "\n"
     ]
    }
   ],
   "source": [
    "string = \"Hello Python! My name is Python. I am a Python Developer.\"\n",
    "print(f'''\n",
    "==== 인덱싱(포인트) ====\n",
    "{string[0]=}\n",
    "{string[3]=}\n",
    "{string[-1]=}\n",
    "{string[-3]=}\n",
    "\n",
    "==== 슬라이싱(구간) ====\n",
    "{string[0:5]=}\n",
    "{string[6:12]=}\n",
    "{string[:5]=}\n",
    "{string[6:]=}\n",
    "{string[6:-1]=}\n",
    "{string[6:-3]=}\n",
    "\n",
    "==== 스텝(간격) ====\n",
    "-인덱스 6부터 2칸씩 12까지\n",
    "{string[6:12:2]=}\n",
    "-처음부터 끝까지 2칸씩\n",
    "{string[::2]=}\n",
    "-처음부터 끝까지 거꾸로 1칸씩\n",
    "{string[::-1]=}\n",
    "''')"
   ]
  },
  {
   "cell_type": "markdown",
   "id": "f8cc54ef",
   "metadata": {},
   "source": [
    "문자열 연산 "
   ]
  },
  {
   "cell_type": "code",
   "execution_count": 39,
   "id": "7ece2118",
   "metadata": {},
   "outputs": [
    {
     "name": "stdout",
     "output_type": "stream",
     "text": [
      "Hello Python!My name is Python.I am a Python Developer.\n"
     ]
    }
   ],
   "source": [
    "#문자열 연결\n",
    "string = \"Hello Python!\" + \"My name is Python.\" + \"I am a Python Developer.\"\n",
    "print(string)"
   ]
  },
  {
   "cell_type": "code",
   "execution_count": 41,
   "id": "c4c3e3b6",
   "metadata": {},
   "outputs": [
    {
     "name": "stdout",
     "output_type": "stream",
     "text": [
      "Hello Python! Hello Python! Hello Python! \n"
     ]
    }
   ],
   "source": [
    "#문자열 반복\n",
    "string = \"Hello Python! \" * 3\n",
    "print(string)"
   ]
  },
  {
   "cell_type": "markdown",
   "id": "3bcbc21c",
   "metadata": {},
   "source": [
    "문자열 관련 함수 "
   ]
  },
  {
   "cell_type": "code",
   "execution_count": 42,
   "id": "d2f5c345",
   "metadata": {},
   "outputs": [
    {
     "name": "stdout",
     "output_type": "stream",
     "text": [
      "22\n",
      "True\n",
      "True\n"
     ]
    }
   ],
   "source": [
    "string = \"2024_바이오헬스 교과목 목록.xlsx\"\n",
    "\n",
    "#문자열 길이\n",
    "print(len(string))\n",
    "\n",
    "#문자열에 2024가 포함되어 있는지 확인\n",
    "print('2024' in string)\n",
    "\n",
    "#문자열에 'csv'가 포함되어 있는지 확인\n",
    "print('csv' not in string)"
   ]
  },
  {
   "cell_type": "markdown",
   "id": "0cfce9d4",
   "metadata": {},
   "source": [
    "Dictionary 생성 및 선언 "
   ]
  },
  {
   "cell_type": "code",
   "execution_count": 43,
   "id": "51db4b46",
   "metadata": {},
   "outputs": [
    {
     "name": "stdout",
     "output_type": "stream",
     "text": [
      "my_dict1 = {}\n",
      "my_dict2 = {}\n"
     ]
    }
   ],
   "source": [
    "#중괄호로 딕셔너리 생성 -> 요소가 없는 딕셔너리\n",
    "my_dict1 = {}\n",
    "\n",
    "#dict() 함수로 딕셔너리 생성 -> 요소가 없는 딕셔너리\n",
    "my_dict2 = dict()\n",
    "\n",
    "print(f'{my_dict1 = }\\n{my_dict2 = }')"
   ]
  },
  {
   "cell_type": "code",
   "execution_count": 44,
   "id": "fae9ef53",
   "metadata": {},
   "outputs": [
    {
     "name": "stdout",
     "output_type": "stream",
     "text": [
      "my_dict1 = {'name': 'Max', 'age': 28, 'city': 'New York'}\n",
      "my_dict2 = {'name': 'Max', 'age': 28, 'city': 'New York'}\n",
      "my_dict3 = {'name': 'Max', 'age': 28, 'city': 'New York'}\n"
     ]
    }
   ],
   "source": [
    "#중괄호로 딕셔너리 생성 -> key:value 형태로 요소 추가\n",
    "my_dict1 = {'name': 'Max', 'age': 28, 'city': 'New York'}\n",
    "\n",
    "#dict() 함수로 딕셔너리 생성 -> key=value 형태로 요소 추가\n",
    "#key는 문자열로 지정됨\n",
    "my_dict2 = dict(name='Max', age=28, city='New York')\n",
    "\n",
    "#dict() 함수로 딕셔너리 변환 -> (key,value)리스트로 요소 추가\n",
    "my_dict3 = dict([('name', 'Max'),('age', 28), ('city', 'New York')])\n",
    "\n",
    "print(f'{my_dict1 = }\\n{my_dict2 = }\\n{my_dict3 = }')"
   ]
  },
  {
   "cell_type": "code",
   "execution_count": 45,
   "id": "2e29807e",
   "metadata": {},
   "outputs": [
    {
     "name": "stdout",
     "output_type": "stream",
     "text": [
      "my_dict4 = {'name': 'Max', 'age': 28, 'city': 'New York'}\n"
     ]
    }
   ],
   "source": [
    "person_keys = ['name', 'age', 'city']\n",
    "person_values = ['Max', 28, 'New York']\n",
    "\n",
    "#zip()으로 묶어서 dict()로 변환\n",
    "my_dict4 = dict(zip(person_keys, person_values))\n",
    "print(f'{my_dict4 = }')"
   ]
  },
  {
   "cell_type": "code",
   "execution_count": 47,
   "id": "d56885aa",
   "metadata": {},
   "outputs": [
    {
     "name": "stdout",
     "output_type": "stream",
     "text": [
      "my_dict_dict = {'A': {'name': 'Max', 'age': 28, 'city': 'New York'}, 'B': {'name': 'Mary', 'age': 22, 'city': 'Seoul'}}\n"
     ]
    }
   ],
   "source": [
    "my_dict_dict = {'A':{'name': 'Max', 'age':28, 'city': 'New York'},\n",
    "                'B':{'name': 'Mary', 'age':22, 'city': 'Seoul'}}\n",
    "print(f'{my_dict_dict = }')"
   ]
  },
  {
   "cell_type": "code",
   "execution_count": 48,
   "id": "85358885",
   "metadata": {},
   "outputs": [
    {
     "name": "stdout",
     "output_type": "stream",
     "text": [
      "{'A': {'age': 28, 'city': 'New York', 'name': 'Max'},\n",
      " 'B': {'age': 22, 'city': 'Seoul', 'name': 'Mary'}}\n"
     ]
    }
   ],
   "source": [
    "from pprint import pprint\n",
    "pprint(my_dict_dict)"
   ]
  },
  {
   "cell_type": "markdown",
   "id": "10b33a5f",
   "metadata": {},
   "source": [
    "Dictionary 살펴보기 "
   ]
  },
  {
   "cell_type": "code",
   "execution_count": 49,
   "id": "81db65a3",
   "metadata": {},
   "outputs": [
    {
     "name": "stdout",
     "output_type": "stream",
     "text": [
      "my_dict1 ={'name': 'Max', 'age': 28, 'city': 'New York'}\n",
      "type(my_dict1) = <class 'dict'>\n",
      "len(my_dict1) = 3\n",
      "True\n",
      "False\n"
     ]
    }
   ],
   "source": [
    "print(f'{my_dict1 =}')\n",
    "\n",
    "#딕셔너리 유형 확인\n",
    "print(f'{type(my_dict1) = }')\n",
    "\n",
    "#딕셔너리 길이(key의 개수) 확인\n",
    "print(f'{len(my_dict1) = }')\n",
    "\n",
    "#key 존재 여부 확인\n",
    "print(\"name\" in my_dict1)\n",
    "\n",
    "#value 존재 여부는 in을 이용하여 확인할 수 없음\n",
    "print(\"Max\" in my_dict1)"
   ]
  },
  {
   "cell_type": "code",
   "execution_count": 50,
   "id": "236a9e52",
   "metadata": {},
   "outputs": [
    {
     "name": "stdout",
     "output_type": "stream",
     "text": [
      "my_dict1[\"name\"] = 'Max'\n",
      "KeyError: 'name2'\n"
     ]
    }
   ],
   "source": [
    "#key로 value에 접근\n",
    "print(f'{my_dict1[\"name\"] = }')\n",
    "\n",
    "try :\n",
    "    #key가 없으면 에러발생\n",
    "    print(f'{my_dict1[\"name2\"] = }')\n",
    "except KeyError as e :\n",
    "    print(f'KeyError: {e}')"
   ]
  },
  {
   "cell_type": "code",
   "execution_count": 51,
   "id": "bef9ea42",
   "metadata": {},
   "outputs": [
    {
     "name": "stdout",
     "output_type": "stream",
     "text": [
      "my_dict_dict[\"A\"][\"name\"] = 'Max'\n"
     ]
    }
   ],
   "source": [
    "#중첩된 dict의 값에 접근\n",
    "print(f'{my_dict_dict[\"A\"][\"name\"] = }')"
   ]
  },
  {
   "cell_type": "code",
   "execution_count": 52,
   "id": "7cba72e9",
   "metadata": {},
   "outputs": [
    {
     "name": "stdout",
     "output_type": "stream",
     "text": [
      "my_dict1.get(\"name\") = 'Max'\n",
      "my_dict1.get(\"name2\") = None\n",
      "my_dict1.get(\"name2\", \"replacement\") = 'replacement'\n"
     ]
    }
   ],
   "source": [
    "#key로 값에 접근\n",
    "print(f'{my_dict1.get(\"name\") = }')\n",
    "\n",
    "#key가 없으면 None을 반환. 에러발생하지 않음\n",
    "print(f'{my_dict1.get(\"name2\") = }')\n",
    "\n",
    "#key가 없으면 대체값을 반환\n",
    "print(f'{my_dict1.get(\"name2\", \"replacement\") = }')"
   ]
  },
  {
   "cell_type": "code",
   "execution_count": 53,
   "id": "9c87c765",
   "metadata": {},
   "outputs": [
    {
     "name": "stdout",
     "output_type": "stream",
     "text": [
      "my_dict1.keys() = dict_keys(['name', 'age', 'city'])\n",
      "my_dict1.values() = dict_values(['Max', 28, 'New York'])\n",
      "my_dict1.items() = dict_items([('name', 'Max'), ('age', 28), ('city', 'New York')])\n"
     ]
    }
   ],
   "source": [
    "#key 목록 가져오기\n",
    "print(f'{my_dict1.keys() = }')\n",
    "\n",
    "#값 목록 가져오기\n",
    "print(f'{my_dict1.values() = }')\n",
    "\n",
    "#키와 값의 쌍을 가져오기\n",
    "print(f'{my_dict1.items() = }')"
   ]
  },
  {
   "cell_type": "markdown",
   "id": "e3ecabb7",
   "metadata": {},
   "source": [
    "Dictionary 요소 추가, 삭제, 수정하기 "
   ]
  },
  {
   "cell_type": "code",
   "execution_count": 54,
   "id": "523c17b3",
   "metadata": {},
   "outputs": [
    {
     "name": "stdout",
     "output_type": "stream",
     "text": [
      "my_dict1 = {'name': 'Max', 'age': 28, 'city': 'New York'}\n",
      "my_dict1 = {'name': 'Max', 'age': 28, 'city': 'New York', 'id': 123}\n"
     ]
    }
   ],
   "source": [
    "print(f'{my_dict1 = }')\n",
    "\n",
    "#새로운 키와 값을 추가\n",
    "my_dict1[\"id\"] = 123\n",
    "print(f'{my_dict1 = }')"
   ]
  },
  {
   "cell_type": "code",
   "execution_count": 55,
   "id": "9783fe7d",
   "metadata": {},
   "outputs": [
    {
     "name": "stdout",
     "output_type": "stream",
     "text": [
      "my_dict1 = {'name': 'Max', 'age': 28, 'city': 'New York'}\n"
     ]
    }
   ],
   "source": [
    "#키와 값을 삭제\n",
    "del my_dict1[\"id\"]\n",
    "print(f'{my_dict1 = }')"
   ]
  },
  {
   "cell_type": "code",
   "execution_count": 56,
   "id": "8f3972a7",
   "metadata": {},
   "outputs": [
    {
     "name": "stdout",
     "output_type": "stream",
     "text": [
      "my_dict1 = {'name': 'Max', 'age': 30, 'city': 'New York'}\n"
     ]
    }
   ],
   "source": [
    "#키가 있으면 값을 수정, 없으면 추가\n",
    "my_dict1[\"age\"] = 30\n",
    "print(f'{my_dict1 = }')"
   ]
  },
  {
   "cell_type": "code",
   "execution_count": 57,
   "id": "3dde3e28",
   "metadata": {},
   "outputs": [
    {
     "name": "stdout",
     "output_type": "stream",
     "text": [
      "my_dict1 = {'name': 'Max', 'age': 40, 'city': 'New York', 'id': 123, 'occupation': 'Data Scientist'}\n"
     ]
    }
   ],
   "source": [
    "#여러개의 키와 값을 수정, 추가\n",
    "my_dict1.update(age = 40, id = 123, occupation = \"Data Scientist\")\n",
    "print(f'{my_dict1 = }')"
   ]
  },
  {
   "cell_type": "code",
   "execution_count": 60,
   "id": "950e2033",
   "metadata": {},
   "outputs": [
    {
     "name": "stdout",
     "output_type": "stream",
     "text": [
      "my_dict1 = {'name': 'Max', 'age': 50, 'city': 'New York', 'id': 123, 'occupation': 'Data Scientist', 'affection': 'Hongik Univ.', 'affiliation': 'Hongik Univ.'}\n"
     ]
    }
   ],
   "source": [
    "#다른 dict를 통째로 추가\n",
    "my_dict_more = {\"age\": 50, \"affiliation\": \"Hongik Univ.\"}\n",
    "my_dict1.update(my_dict_more)\n",
    "print(f'{my_dict1 = }')"
   ]
  },
  {
   "cell_type": "code",
   "execution_count": 61,
   "id": "4be996b7",
   "metadata": {},
   "outputs": [
    {
     "name": "stdout",
     "output_type": "stream",
     "text": [
      "my_dict1 = {'name': 'Max', 'age': 50, 'city': 'New York', 'id': 123, 'occupation': 'Data Scientist', 'affection': 'Hongik Univ.'}\n"
     ]
    }
   ],
   "source": [
    "#키와 값을 삭제\n",
    "my_dict1.pop(\"affiliation\")\n",
    "print(f'{my_dict1 = }')"
   ]
  },
  {
   "cell_type": "code",
   "execution_count": 62,
   "id": "b8e55d5d",
   "metadata": {},
   "outputs": [
    {
     "name": "stdout",
     "output_type": "stream",
     "text": [
      "my_dict1 = {'name': 'Max', 'age': 50, 'city': 'New York', 'id': 123, 'affection': 'Hongik Univ.'}\n",
      "occupation = 'Data Scientist'\n"
     ]
    }
   ],
   "source": [
    "#키와 값을 삭제하고 값을 반환\n",
    "occupation = my_dict1.pop(\"occupation\")\n",
    "print(f'{my_dict1 = }\\n{occupation = }')"
   ]
  },
  {
   "cell_type": "code",
   "execution_count": 63,
   "id": "acf27bb0",
   "metadata": {},
   "outputs": [
    {
     "name": "stdout",
     "output_type": "stream",
     "text": [
      "KeyError: 'occupation'\n",
      "occupation = 'unknown'\n"
     ]
    }
   ],
   "source": [
    "try :\n",
    "    #키가 없으면 에러발생\n",
    "    my_dict1.pop(\"occupation\")\n",
    "except KeyError as e :\n",
    "    print(f'KeyError: {e}')\n",
    "\n",
    "#pop()을 사용하면, 키가 없어도 에러발생하지 않음\n",
    "occupation = my_dict1.pop(\"occupation\", \"unknown\")\n",
    "print(f'{occupation = }')"
   ]
  },
  {
   "cell_type": "code",
   "execution_count": 64,
   "id": "95705337",
   "metadata": {},
   "outputs": [
    {
     "name": "stdout",
     "output_type": "stream",
     "text": [
      "my_dict1 = {'name': 'Max', 'age': 50, 'city': 'New York', 'id': 123, 'affection': 'Hongik Univ.'}\n",
      "my_dict1 = {'name': 'Max', 'age': 50, 'city': 'New York', 'id': 123}\n",
      "last = ('affection', 'Hongik Univ.')\n",
      "my_dict1 = {'name': 'Max', 'age': 50, 'city': 'New York'}\n",
      "last = ('id', 123)\n"
     ]
    }
   ],
   "source": [
    "print(f'{my_dict1 = }')\n",
    "\n",
    "#마지막 키와 값을 삭제\n",
    "#딕셔너리는 원소의 순서가 없어 임의의 키와 값을 삭제하는 것과 동일\n",
    "last = my_dict1.popitem()\n",
    "print(f'{my_dict1 = }\\n{last = }')\n",
    "\n",
    "#임의의 키와 값을 삭제\n",
    "last = my_dict1.popitem()\n",
    "print(f'{my_dict1 = }\\n{last = }')"
   ]
  },
  {
   "cell_type": "code",
   "execution_count": 65,
   "id": "1a0a2840",
   "metadata": {},
   "outputs": [
    {
     "name": "stdout",
     "output_type": "stream",
     "text": [
      "my_dict1 = {}\n"
     ]
    }
   ],
   "source": [
    "#모든 키와 값을 삭제\n",
    "my_dict1.clear()\n",
    "print(f'{my_dict1 = }')"
   ]
  }
 ],
 "metadata": {
  "kernelspec": {
   "display_name": "Python 3",
   "language": "python",
   "name": "python3"
  },
  "language_info": {
   "codemirror_mode": {
    "name": "ipython",
    "version": 3
   },
   "file_extension": ".py",
   "mimetype": "text/x-python",
   "name": "python",
   "nbconvert_exporter": "python",
   "pygments_lexer": "ipython3",
   "version": "3.13.2"
  }
 },
 "nbformat": 4,
 "nbformat_minor": 5
}
